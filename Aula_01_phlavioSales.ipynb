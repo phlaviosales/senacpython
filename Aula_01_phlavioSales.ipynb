{
  "nbformat": 4,
  "nbformat_minor": 0,
  "metadata": {
    "colab": {
      "provenance": [],
      "collapsed_sections": []
    },
    "kernelspec": {
      "name": "python3",
      "display_name": "Python 3"
    },
    "language_info": {
      "name": "python"
    }
  },
  "cells": [
    {
      "cell_type": "code",
      "execution_count": 2,
      "metadata": {
        "id": "agkHch8MGXmB"
      },
      "outputs": [],
      "source": [
        "nome = 'Camila'\n",
        "idade = 35"
      ]
    },
    {
      "cell_type": "code",
      "source": [
        "print('Olá', nome)"
      ],
      "metadata": {
        "colab": {
          "base_uri": "https://localhost:8080/"
        },
        "id": "rwGAhzM_G_VP",
        "outputId": "31488bd5-ff48-45b6-ff71-e24e09c8faa1"
      },
      "execution_count": 3,
      "outputs": [
        {
          "output_type": "stream",
          "name": "stdout",
          "text": [
            "Olá Camila\n"
          ]
        }
      ]
    },
    {
      "cell_type": "code",
      "source": [
        "pessoa = 'Camila'\n",
        "idade = 35\n",
        "altura = 1.70\n",
        "desenvolvedora = True "
      ],
      "metadata": {
        "id": "wGlz5kbEHEsc"
      },
      "execution_count": 4,
      "outputs": []
    },
    {
      "cell_type": "code",
      "source": [
        "type(pessoa)\n",
        "type(idade)\n",
        "type(altura)\n",
        "type(desenvolvedora)"
      ],
      "metadata": {
        "colab": {
          "base_uri": "https://localhost:8080/"
        },
        "id": "Z9d16WIzHnw1",
        "outputId": "13b65795-2abb-4892-c46f-89cd502a4998"
      },
      "execution_count": 8,
      "outputs": [
        {
          "output_type": "execute_result",
          "data": {
            "text/plain": [
              "bool"
            ]
          },
          "metadata": {},
          "execution_count": 8
        }
      ]
    },
    {
      "cell_type": "code",
      "source": [
        "pessoa = 1234\n",
        "print(pessoa)"
      ],
      "metadata": {
        "colab": {
          "base_uri": "https://localhost:8080/"
        },
        "id": "_FRazon-Hvcj",
        "outputId": "5f55339d-1083-4aeb-f43c-298124d634cc"
      },
      "execution_count": 9,
      "outputs": [
        {
          "output_type": "stream",
          "name": "stdout",
          "text": [
            "1234\n"
          ]
        }
      ]
    },
    {
      "cell_type": "code",
      "source": [
        "type(pessoa)"
      ],
      "metadata": {
        "colab": {
          "base_uri": "https://localhost:8080/"
        },
        "id": "9jiI92o1H9Ei",
        "outputId": "ce8b954f-950c-481e-b10c-70b3bb0524b5"
      },
      "execution_count": 10,
      "outputs": [
        {
          "output_type": "execute_result",
          "data": {
            "text/plain": [
              "int"
            ]
          },
          "metadata": {},
          "execution_count": 10
        }
      ]
    },
    {
      "cell_type": "code",
      "source": [
        "print('Olá', nome) # podemos fazer comentários"
      ],
      "metadata": {
        "colab": {
          "base_uri": "https://localhost:8080/"
        },
        "id": "xiLr5kUOIAUA",
        "outputId": "f773e2d2-2a07-466d-92f7-dd01ff014198"
      },
      "execution_count": 11,
      "outputs": [
        {
          "output_type": "stream",
          "name": "stdout",
          "text": [
            "Olá Camila\n"
          ]
        }
      ]
    },
    {
      "cell_type": "code",
      "source": [
        "print('Olá', nome)\n",
        "\n",
        "\"\"\"podemos fazer comentários que ultrapassam \n",
        "mais de uma linha\n",
        "porém é necessário fechar as aspas\"\"\""
      ],
      "metadata": {
        "id": "w4UU79MyItfH"
      },
      "execution_count": null,
      "outputs": []
    },
    {
      "cell_type": "code",
      "source": [
        "idade1 = 20\n",
        "idade2 = 35\n",
        "idade1 + idade2"
      ],
      "metadata": {
        "colab": {
          "base_uri": "https://localhost:8080/"
        },
        "id": "2x6zn4tRJG6J",
        "outputId": "46e99e4c-c099-4d9d-8ae5-934af01c3a1e"
      },
      "execution_count": 16,
      "outputs": [
        {
          "output_type": "execute_result",
          "data": {
            "text/plain": [
              "55"
            ]
          },
          "metadata": {},
          "execution_count": 16
        }
      ]
    },
    {
      "cell_type": "code",
      "source": [
        "idade1 + 10\n",
        "idade1 - 15\n",
        "idade1 * 4\n",
        "idade1 / 5\n",
        "idade1 ** 2\n",
        "15 ** 2\n",
        "idade2 // idade1 # parte inteira de uma divisão\n",
        "idade2 % idade2 # módulo, indica o resto de uma divisão"
      ],
      "metadata": {
        "colab": {
          "base_uri": "https://localhost:8080/"
        },
        "id": "VeegtborJP5I",
        "outputId": "4bc5f611-746c-47c1-ad96-852020940852"
      },
      "execution_count": 21,
      "outputs": [
        {
          "output_type": "execute_result",
          "data": {
            "text/plain": [
              "0"
            ]
          },
          "metadata": {},
          "execution_count": 21
        }
      ]
    },
    {
      "cell_type": "code",
      "source": [
        "nome = 'Camila'\n",
        "sobrenome = 'Dantas'\n",
        "print(nome + ' ' + sobrenome)"
      ],
      "metadata": {
        "colab": {
          "base_uri": "https://localhost:8080/"
        },
        "id": "9rBCPcczJUlo",
        "outputId": "5f2e581b-e958-4e47-8c6d-006ca5d37f49"
      },
      "execution_count": 23,
      "outputs": [
        {
          "output_type": "stream",
          "name": "stdout",
          "text": [
            "Camila Dantas\n"
          ]
        }
      ]
    },
    {
      "cell_type": "code",
      "source": [
        "print('Olá', nome,'\\n','você tem', idade1 + 15, 'anos.')"
      ],
      "metadata": {
        "colab": {
          "base_uri": "https://localhost:8080/"
        },
        "id": "VxpT81OXJ8FT",
        "outputId": "960b545e-ee25-4014-bb81-158d43d7b2b6"
      },
      "execution_count": 26,
      "outputs": [
        {
          "output_type": "stream",
          "name": "stdout",
          "text": [
            "Olá Camila \n",
            " você tem 35 anos.\n"
          ]
        }
      ]
    },
    {
      "cell_type": "code",
      "source": [
        "nome = str(input('Digite o seu nome: '))"
      ],
      "metadata": {
        "colab": {
          "base_uri": "https://localhost:8080/"
        },
        "id": "gdUAf6CgKO6c",
        "outputId": "54eed282-d4ae-429b-e093-fbf770236a02"
      },
      "execution_count": 28,
      "outputs": [
        {
          "name": "stdout",
          "output_type": "stream",
          "text": [
            "Digite o seu nome: Phlavio\n"
          ]
        }
      ]
    },
    {
      "cell_type": "code",
      "source": [],
      "metadata": {
        "id": "LfrCk7ejKf17"
      },
      "execution_count": 27,
      "outputs": []
    }
  ]
}