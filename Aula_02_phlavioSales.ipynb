{
  "nbformat": 4,
  "nbformat_minor": 0,
  "metadata": {
    "colab": {
      "provenance": []
    },
    "kernelspec": {
      "name": "python3",
      "display_name": "Python 3"
    },
    "language_info": {
      "name": "python"
    }
  },
  "cells": [
    {
      "cell_type": "code",
      "execution_count": null,
      "metadata": {
        "colab": {
          "base_uri": "https://localhost:8080/"
        },
        "id": "c80SNnA2BZeP",
        "outputId": "52199b3f-6097-4fc5-91d1-49c1134e22c4"
      },
      "outputs": [
        {
          "name": "stdout",
          "output_type": "stream",
          "text": [
            "Digite um número inteiro:2\n",
            "Digite outro número inteiro:3\n"
          ]
        }
      ],
      "source": [
        "valor1 = input('Digite um número inteiro:')\n",
        "valor2 = input('Digite outro número inteiro:')"
      ]
    },
    {
      "cell_type": "code",
      "source": [
        "print(valor1 == valor2)\n",
        "print(valor1 > valor2)\n",
        "print(valor1 < valor2)\n",
        "print(valor1 >= valor2)\n",
        "print(valor1 <= valor2)"
      ],
      "metadata": {
        "colab": {
          "base_uri": "https://localhost:8080/"
        },
        "id": "uPq9a_aQGICz",
        "outputId": "498b3f9b-06cc-4f82-b93d-64af45ff238b"
      },
      "execution_count": null,
      "outputs": [
        {
          "output_type": "stream",
          "name": "stdout",
          "text": [
            "False\n",
            "False\n",
            "True\n",
            "False\n",
            "True\n"
          ]
        }
      ]
    },
    {
      "cell_type": "code",
      "source": [
        "numero = 10\n",
        "print (numero>0 and numero <10)"
      ],
      "metadata": {
        "colab": {
          "base_uri": "https://localhost:8080/"
        },
        "id": "-uzuLKgrGZok",
        "outputId": "67adfa14-1993-42dc-d3c6-0c0d78f2e7bf"
      },
      "execution_count": null,
      "outputs": [
        {
          "output_type": "stream",
          "name": "stdout",
          "text": [
            "False\n"
          ]
        }
      ]
    },
    {
      "cell_type": "code",
      "source": [
        "numero = 10\n",
        "print(numero>0 or numero <10)"
      ],
      "metadata": {
        "colab": {
          "base_uri": "https://localhost:8080/"
        },
        "id": "r1471ePAKAaA",
        "outputId": "ce87d73d-3d64-4c85-d00d-2cea14292d2d"
      },
      "execution_count": null,
      "outputs": [
        {
          "output_type": "stream",
          "name": "stdout",
          "text": [
            "True\n"
          ]
        }
      ]
    },
    {
      "cell_type": "code",
      "source": [
        "if ( ):\n",
        "    print()\n",
        "else:\n",
        "    print()"
      ],
      "metadata": {
        "colab": {
          "base_uri": "https://localhost:8080/"
        },
        "id": "WRe0-JYDKwBW",
        "outputId": "b211266f-3f5a-4690-f9f4-0f13377c8124"
      },
      "execution_count": null,
      "outputs": [
        {
          "output_type": "stream",
          "name": "stdout",
          "text": [
            "\n"
          ]
        }
      ]
    },
    {
      "cell_type": "code",
      "source": [
        "value1 = int(input('Digite um número inteiro: '))"
      ],
      "metadata": {
        "colab": {
          "base_uri": "https://localhost:8080/"
        },
        "id": "NaOwOc4cL6vY",
        "outputId": "085750fb-ba47-45b1-d81c-ca7b9ee4ac27"
      },
      "execution_count": null,
      "outputs": [
        {
          "name": "stdout",
          "output_type": "stream",
          "text": [
            "Digite um número inteiro: 2\n"
          ]
        }
      ]
    },
    {
      "cell_type": "code",
      "source": [
        "if (value1 % 2 == 0):  # se value1 é múltiplo de 2\n",
        "  print('O número é par')\n",
        "else: # se value1 não é múltiplo de 2\n",
        "  print('O número é impar')\n",
        "\n",
        "print('Fim.')"
      ],
      "metadata": {
        "colab": {
          "base_uri": "https://localhost:8080/"
        },
        "id": "rLU2XD_TMEUE",
        "outputId": "5f1c607b-ddf0-453d-b0b7-996c41ff0bac"
      },
      "execution_count": null,
      "outputs": [
        {
          "output_type": "stream",
          "name": "stdout",
          "text": [
            "O número é par\n",
            "Fim.\n"
          ]
        }
      ]
    },
    {
      "cell_type": "code",
      "source": [
        "value1 = int(input('Digite um número: '))\n",
        "\n",
        "if value1 % 2 == 0: # se value1 é múltiplo de 2\n",
        "  print(value1, 'é par')\n",
        "if value1 % 2 != 0: # se value 1 não é múltiplo de 2\n",
        "  print (value1, 'é impar')\n",
        "\n",
        "print('Fim')"
      ],
      "metadata": {
        "colab": {
          "base_uri": "https://localhost:8080/"
        },
        "id": "yI6K2fZaMiQc",
        "outputId": "eaa1c2e5-7b7c-4ea8-aad3-a52888633783"
      },
      "execution_count": null,
      "outputs": [
        {
          "output_type": "stream",
          "name": "stdout",
          "text": [
            "Digite um número: 2\n",
            "2 é par\n",
            "Fim\n"
          ]
        }
      ]
    },
    {
      "cell_type": "code",
      "source": [
        "cupom = input('digite o cupom: ')\n",
        "\n",
        "if(cupom == 'aula1' or cupom == 'aula2'):\n",
        "  print('você ganhou 10% de desconto')\n",
        "else:\n",
        "  print('cupom inválido')"
      ],
      "metadata": {
        "colab": {
          "base_uri": "https://localhost:8080/"
        },
        "id": "1MkG9MyYQP71",
        "outputId": "6346e3a0-6db6-4621-f423-c46199e2e91f"
      },
      "execution_count": null,
      "outputs": [
        {
          "output_type": "stream",
          "name": "stdout",
          "text": [
            "digite o cupom: aula3\n",
            "cupom inválido\n"
          ]
        }
      ]
    },
    {
      "cell_type": "code",
      "source": [
        "cupom = input('Digite seu cupom de desconto: ')\n",
        "\n",
        "if(cupom == 'aula1' or cupom == 'aula2'):\n",
        "  print('Você ganhou 15% de desconto')\n",
        "else:\n",
        "  print('Você ganhou 5% de desconto')\n"
      ],
      "metadata": {
        "colab": {
          "base_uri": "https://localhost:8080/"
        },
        "id": "KJKZcxWNRYAR",
        "outputId": "c748cba3-ad62-48c0-9f83-61abbe23338e"
      },
      "execution_count": null,
      "outputs": [
        {
          "output_type": "stream",
          "name": "stdout",
          "text": [
            "Digite seu cupom de desconto: aula1\n",
            "Você ganhou 15% de desconto\n"
          ]
        }
      ]
    },
    {
      "cell_type": "code",
      "source": [
        "if ( ):\n",
        "  print()\n",
        "elif( ):\n",
        "  print()\n",
        "else:\n",
        "  print()"
      ],
      "metadata": {
        "colab": {
          "base_uri": "https://localhost:8080/"
        },
        "id": "vKvyaiBaT6LE",
        "outputId": "4287472e-7e33-4e47-c87d-4e1c928c7efb"
      },
      "execution_count": null,
      "outputs": [
        {
          "output_type": "stream",
          "name": "stdout",
          "text": [
            "\n"
          ]
        }
      ]
    },
    {
      "cell_type": "code",
      "source": [
        "cupom = input('Digite o cupom: ')\n",
        "\n",
        "if(cupom == 'aula1'):\n",
        "  print('Você ganhou 15% de desconto')\n",
        "elif(cupom == 'aula2'):\n",
        "  print('Você ganhou 10% de desconto')\n",
        "else:\n",
        "  print('Você ganhou 5% de desconto')"
      ],
      "metadata": {
        "colab": {
          "base_uri": "https://localhost:8080/"
        },
        "id": "43Xvxbj5WXIu",
        "outputId": "436b4808-857e-4c75-e1d0-70a791e1f808"
      },
      "execution_count": null,
      "outputs": [
        {
          "output_type": "stream",
          "name": "stdout",
          "text": [
            "Digite o cupom: aula1\n",
            "Você ganhou 15% de desconto\n"
          ]
        }
      ]
    },
    {
      "cell_type": "code",
      "source": [
        "cupom = input('Digite o cupom: ')\n",
        "\n",
        "if(cupom == 'aula1'):\n",
        "  print('Você ganhou 15% de desconto')\n",
        "elif(cupom == 'aula2'):\n",
        "  print('Você ganhou 10% de desconto')\n",
        "elif(cupom == 'aula3'):\n",
        "  print('Você ganhou 5% de desconto')\n",
        "else:\n",
        "  print('Cupom Inválido')"
      ],
      "metadata": {
        "colab": {
          "base_uri": "https://localhost:8080/"
        },
        "id": "HJ_upE4yWecB",
        "outputId": "698183d9-4ec5-45db-dedb-ecc5cf13ab4d"
      },
      "execution_count": null,
      "outputs": [
        {
          "output_type": "stream",
          "name": "stdout",
          "text": [
            "Digite o cupom: aula5\n",
            "Cupom Inválido\n"
          ]
        }
      ]
    },
    {
      "cell_type": "code",
      "source": [
        "clima = input('Está fazendo sol? ')\n",
        "dinheiro = input('Tenho dinheiro? ')\n",
        "\n",
        "if(clima == 'True' and dinheiro == 'True'):\n",
        "  print('Vou à praia')\n",
        "else:\n",
        "  print('Verei Netflix. :(')"
      ],
      "metadata": {
        "colab": {
          "base_uri": "https://localhost:8080/"
        },
        "id": "z4CnLPEnXX_T",
        "outputId": "e953bda0-9d90-45b8-abd9-dc4ad03ce098"
      },
      "execution_count": null,
      "outputs": [
        {
          "output_type": "stream",
          "name": "stdout",
          "text": [
            "Está fazendo sol? False\n",
            "Tenho dinheiro? False\n",
            "Verei Netflix. :(\n"
          ]
        }
      ]
    },
    {
      "cell_type": "code",
      "source": [
        "clima = input('Está fazendo sol? ')\n",
        "dinheiro = input('Tenho dinheiro? ')\n",
        "\n",
        "if(clima == 'True' or dinheiro == 'True'):\n",
        "  print('Vou à praia')\n",
        "else:\n",
        "  print('Verei Netflix. :(')"
      ],
      "metadata": {
        "colab": {
          "base_uri": "https://localhost:8080/"
        },
        "id": "npShXozHbaL0",
        "outputId": "15a339e1-3017-4db5-ffd6-7e8f08ff9a4d"
      },
      "execution_count": null,
      "outputs": [
        {
          "output_type": "stream",
          "name": "stdout",
          "text": [
            "Está fazendo sol? True\n",
            "Tenho dinheiro? False\n",
            "Vou à praia\n"
          ]
        }
      ]
    },
    {
      "cell_type": "code",
      "source": [
        "clima = input('Está fazendo sol? ')\n",
        "\n",
        "if(clima == 'True'):\n",
        "  dinheiro = input('Tenho dinheiro? ')\n",
        "  if(dinheiro == 'True'):\n",
        "    print(\"Vou à praia :D\")\n",
        "  else:\n",
        "    print('Vá ligar o ventilador')\n",
        "else:\n",
        "  print('Verei Netflix. :(')"
      ],
      "metadata": {
        "colab": {
          "base_uri": "https://localhost:8080/"
        },
        "id": "3iy-51MVePlh",
        "outputId": "ef6cf3d2-c548-49e6-8430-f805d74bd157"
      },
      "execution_count": null,
      "outputs": [
        {
          "output_type": "stream",
          "name": "stdout",
          "text": [
            "Está fazendo sol? True\n",
            "Tenho dinheiro? False\n",
            "Vá ligar o ventilador\n"
          ]
        }
      ]
    },
    {
      "cell_type": "code",
      "source": [
        "# Questão 6\n",
        "\n",
        "anoDoCarro = int(input('Qual ano do seu carro? '))\n",
        "precoDoCarro = int(input('Qual o valor do seu carro? '))\n",
        "imposto1 = (precoDoCarro * 0.01)\n",
        "imposto2 = (precoDoCarro * 0.015)\n",
        "\n",
        "if(anoDoCarro <= 1990):\n",
        "  print('O valor da sua taxa será R$', imposto1)\n",
        "else:\n",
        "  print('O valor da sua taxa será R$', imposto2)"
      ],
      "metadata": {
        "colab": {
          "base_uri": "https://localhost:8080/"
        },
        "id": "Wp6CFLAefLBk",
        "outputId": "233a414b-ce3e-4e9f-d887-8078f4535eb7"
      },
      "execution_count": 2,
      "outputs": [
        {
          "output_type": "stream",
          "name": "stdout",
          "text": [
            "Qual ano do seu carro? 1990\n",
            "Qual o valor do seu carro? 5000\n",
            "O valor da sua taxa será R$ 50.0\n"
          ]
        }
      ]
    },
    {
      "cell_type": "code",
      "source": [
        "# Questão 7\n",
        "\n",
        "cargo = str(input('Digite o cargo do funcionário: '))\n",
        "salario = float(input('Digite o salário do funcionário: '))\n",
        "\n",
        "if(cargo == 'Gerente' and salario == 4000):\n",
        "  print('Seu novo salário é de', 'R$', salario + salario*0.10)\n",
        "elif(cargo == 'Engenheiro' and salario == 5000):\n",
        "  print('Seu novo salário é de', 'R$', salario + salario*0.20)\n",
        "elif(cargo == 'Técnico' and salario == 3000):\n",
        "  print('Seu novo salário é de', 'R$', salario + salario*0.30)\n",
        "else:\n",
        "  print('Seu novo salário é de', salario + salario*0.40)\n",
        "'/n'\n",
        "print('Obrigado por fazer parte da nossa equipe')\n"
      ],
      "metadata": {
        "id": "FwHkZHSTnzTz",
        "colab": {
          "base_uri": "https://localhost:8080/"
        },
        "outputId": "f21da878-37ff-4e25-b2ed-416377faf99a"
      },
      "execution_count": 3,
      "outputs": [
        {
          "output_type": "stream",
          "name": "stdout",
          "text": [
            "Digite o cargo do funcionário: Gerente\n",
            "Digite o salário do funcionário: 4000\n",
            "Seu novo salário é de R$ 4400.0\n",
            "Obrigado por fazer parte da nossa equipe\n"
          ]
        }
      ]
    },
    {
      "cell_type": "code",
      "source": [
        "# Questão 8\n",
        "\n",
        "saldoUltAno = float(input('Digite seu saldo de rendimentos do último ano: '))\n",
        "saldoMedioUltAno = saldoUltAno / 12\n",
        "\n",
        "if(saldoMedioUltAno <= 200):\n",
        "  print('Seu saldo médio anual é de:', saldoMedioUltAno,'\\n''Que pena! Você não possui nenhum valor de crédito disponível :(')\n",
        "elif(saldoMedioUltAno > 201 and saldoMedioUltAno <= 400):\n",
        "  print('Seu saldo médio anual é de:', saldoMedioUltAno,'\\n''Você tem um valor de crédito disponível de R$', saldoMedioUltAno + saldoMedioUltAno*0.20)\n",
        "elif(saldoMedioUltAno > 401 and saldoMedioUltAno <= 600):\n",
        "  print('Seu saldo médio anual é de:', saldoMedioUltAno,'\\n''Você tem um valor de crédito disponível de R$', saldoMedioUltAno + saldoMedioUltAno*0.30)\n",
        "else:\n",
        "  print('Seu saldo médio anual é de:', saldoMedioUltAno, 'Você tem um valor de crédito disponível de R$', saldoMedioUltAno + saldoMedioUltAno*0.40)\n",
        "\n"
      ],
      "metadata": {
        "colab": {
          "base_uri": "https://localhost:8080/"
        },
        "id": "nJXSONc4QavR",
        "outputId": "ce180350-a4df-4927-b982-29d0b2a14dc9"
      },
      "execution_count": 46,
      "outputs": [
        {
          "output_type": "stream",
          "name": "stdout",
          "text": [
            "Digite seu saldo de rendimentos do último ano: 5000\n",
            "Seu saldo médio anual é de: 416.6666666666667 \n",
            "Você tem um valor de crédito disponível de R$ 541.6666666666667\n"
          ]
        }
      ]
    },
    {
      "cell_type": "code",
      "source": [
        "# Questão 9\n",
        "\n",
        "variavel1 = 10\n",
        "variavel2 = 20\n",
        "variavel3 = 30\n",
        "variavel4 = 40\n",
        "variavel5 = 50\n",
        "\n",
        "variaveis = [variavel1, variavel2, variavel3, variavel4, variavel5]\n",
        "print('O menor número das variveis é:', min(variaveis))\n",
        "print('O maior número das variveis é:', max(variaveis))"
      ],
      "metadata": {
        "colab": {
          "base_uri": "https://localhost:8080/"
        },
        "id": "Bq7kvR5FW3H5",
        "outputId": "29e18ff8-c618-441b-bd44-fbda1175667d"
      },
      "execution_count": 6,
      "outputs": [
        {
          "output_type": "stream",
          "name": "stdout",
          "text": [
            "O menor número das variveis é: 10\n",
            "O maior número das variveis é: 50\n"
          ]
        }
      ]
    },
    {
      "cell_type": "code",
      "source": [],
      "metadata": {
        "id": "UWd9AoUneMW-"
      },
      "execution_count": null,
      "outputs": []
    }
  ]
}