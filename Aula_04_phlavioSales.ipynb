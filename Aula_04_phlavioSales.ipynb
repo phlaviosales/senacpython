{
  "nbformat": 4,
  "nbformat_minor": 0,
  "metadata": {
    "colab": {
      "provenance": [],
      "collapsed_sections": [],
      "authorship_tag": "ABX9TyMNJ9Wm+4oYeg8N9T2Kby1T",
      "include_colab_link": true
    },
    "kernelspec": {
      "name": "python3",
      "display_name": "Python 3"
    },
    "language_info": {
      "name": "python"
    }
  },
  "cells": [
    {
      "cell_type": "markdown",
      "metadata": {
        "id": "view-in-github",
        "colab_type": "text"
      },
      "source": [
        "<a href=\"https://colab.research.google.com/github/phlaviosales/senacpython/blob/main/Aula_04_phlavioSales.ipynb\" target=\"_parent\"><img src=\"https://colab.research.google.com/assets/colab-badge.svg\" alt=\"Open In Colab\"/></a>"
      ]
    },
    {
      "cell_type": "code",
      "execution_count": null,
      "metadata": {
        "id": "3V1CwVcPHn43"
      },
      "outputs": [],
      "source": [
        "# Aula 04 - For / While and Enumerate"
      ]
    },
    {
      "cell_type": "code",
      "source": [
        "for produto in range(0,4):\n",
        "  p = str(input('Digite o nome do produto: '))\n",
        "  v = float(input('Digite o valor do produto: '))"
      ],
      "metadata": {
        "colab": {
          "base_uri": "https://localhost:8080/"
        },
        "id": "Q5iztgsYIlAf",
        "outputId": "ee371b35-bd3f-4b3e-9704-c7baf9716446"
      },
      "execution_count": null,
      "outputs": [
        {
          "name": "stdout",
          "output_type": "stream",
          "text": [
            "Digite o nome do produto: 1\n",
            "Digite o valor do produto: 2\n",
            "Digite o nome do produto: 3\n",
            "Digite o valor do produto: 5\n",
            "Digite o nome do produto: 5\n",
            "Digite o valor do produto: 6\n",
            "Digite o nome do produto: 0\n",
            "Digite o valor do produto: 2\n"
          ]
        }
      ]
    },
    {
      "cell_type": "code",
      "source": [
        "for elemento in [1, 2, 3, 4, 5, 6]:\n",
        "  print('Estamos no elemento ', elemento)"
      ],
      "metadata": {
        "colab": {
          "base_uri": "https://localhost:8080/"
        },
        "id": "ZGPWREzSMlc8",
        "outputId": "2330fbfc-528d-4c08-ac65-3ed3b9aa9ee1"
      },
      "execution_count": null,
      "outputs": [
        {
          "output_type": "stream",
          "name": "stdout",
          "text": [
            "Estamos no elemento  1\n",
            "Estamos no elemento  2\n",
            "Estamos no elemento  3\n",
            "Estamos no elemento  4\n",
            "Estamos no elemento  5\n",
            "Estamos no elemento  6\n"
          ]
        }
      ]
    },
    {
      "cell_type": "code",
      "source": [
        "for elemento in 'STRING':\n",
        "  print('Estamos no elemento ', elemento)"
      ],
      "metadata": {
        "colab": {
          "base_uri": "https://localhost:8080/"
        },
        "id": "gBEupnINM_mN",
        "outputId": "73cd726e-7e78-4661-b052-06d40b477fbb"
      },
      "execution_count": null,
      "outputs": [
        {
          "output_type": "stream",
          "name": "stdout",
          "text": [
            "Estamos no elemento  S\n",
            "Estamos no elemento  T\n",
            "Estamos no elemento  R\n",
            "Estamos no elemento  I\n",
            "Estamos no elemento  N\n",
            "Estamos no elemento  G\n"
          ]
        }
      ]
    },
    {
      "cell_type": "code",
      "source": [
        "for elemento in range(len('STRING')):\n",
        "  print('Estamos no elemento ', elemento)"
      ],
      "metadata": {
        "colab": {
          "base_uri": "https://localhost:8080/"
        },
        "id": "UPoxNCvsNx1W",
        "outputId": "5d4fdb56-842a-4aef-f721-3cb1a6dc2425"
      },
      "execution_count": null,
      "outputs": [
        {
          "output_type": "stream",
          "name": "stdout",
          "text": [
            "Estamos no elemento  0\n",
            "Estamos no elemento  1\n",
            "Estamos no elemento  2\n",
            "Estamos no elemento  3\n",
            "Estamos no elemento  4\n",
            "Estamos no elemento  5\n"
          ]
        }
      ]
    },
    {
      "cell_type": "code",
      "source": [
        "produto = 0\n",
        "while produto < 4:\n",
        "  p = str(input('Digite o nome do produto: '))\n",
        "  v = float(input('Digite o nome do produto: '))\n",
        "  produto += 1"
      ],
      "metadata": {
        "id": "6oT_Jh3zOc0j"
      },
      "execution_count": null,
      "outputs": []
    },
    {
      "cell_type": "code",
      "source": [
        "elemento = 0\n",
        "while elemento <= len([1,2,3,4,5,6]):\n",
        "  print('Estamos no elemento ', elemento)\n",
        "  elemento +=1"
      ],
      "metadata": {
        "colab": {
          "base_uri": "https://localhost:8080/"
        },
        "id": "4HGJztXjPb6I",
        "outputId": "b106c123-ba91-4c34-ddc1-ee8a9a757110"
      },
      "execution_count": 10,
      "outputs": [
        {
          "output_type": "stream",
          "name": "stdout",
          "text": [
            "Estamos no elemento  0\n",
            "Estamos no elemento  1\n",
            "Estamos no elemento  2\n",
            "Estamos no elemento  3\n",
            "Estamos no elemento  4\n",
            "Estamos no elemento  5\n",
            "Estamos no elemento  6\n"
          ]
        }
      ]
    },
    {
      "cell_type": "code",
      "source": [
        "s = 'STRING'\n",
        "indice = 0\n",
        "\n",
        "while indice in range (len (s)):\n",
        "  print('Estamos no elemento ', s[indice])\n",
        "  indice +=1"
      ],
      "metadata": {
        "id": "8zQC1VShPxB1",
        "colab": {
          "base_uri": "https://localhost:8080/"
        },
        "outputId": "3f12cfad-68d8-4447-e3c4-e3e7f3be298f"
      },
      "execution_count": 11,
      "outputs": [
        {
          "output_type": "stream",
          "name": "stdout",
          "text": [
            "Estamos no elemento  S\n",
            "Estamos no elemento  T\n",
            "Estamos no elemento  R\n",
            "Estamos no elemento  I\n",
            "Estamos no elemento  N\n",
            "Estamos no elemento  G\n"
          ]
        }
      ]
    },
    {
      "cell_type": "markdown",
      "source": [
        "Utilizar FOR quando souber o número de repetições \n",
        "Utilizar While quando não soube o número de repetições"
      ],
      "metadata": {
        "id": "gWDBMo4nSDTE"
      }
    },
    {
      "cell_type": "code",
      "source": [
        "palavra = 'tranquilo'\n",
        "for indice, letra in enumerate(palavra):\n",
        "  print(indice, letra)"
      ],
      "metadata": {
        "colab": {
          "base_uri": "https://localhost:8080/"
        },
        "id": "Sn6VYT4bSC70",
        "outputId": "fc3b07dc-898e-430a-da8f-17bb6fdbbf07"
      },
      "execution_count": 14,
      "outputs": [
        {
          "output_type": "stream",
          "name": "stdout",
          "text": [
            "0 t\n",
            "1 r\n",
            "2 a\n",
            "3 n\n",
            "4 q\n",
            "5 u\n",
            "6 i\n",
            "7 l\n",
            "8 o\n"
          ]
        }
      ]
    },
    {
      "cell_type": "code",
      "source": [
        "lista=['eat', 'sleep', 'repeat']\n",
        "palavra = 'geek'"
      ],
      "metadata": {
        "id": "g72p-GMLSiIR"
      },
      "execution_count": 15,
      "outputs": []
    },
    {
      "cell_type": "code",
      "source": [
        "objeto1 = enumerate(lista)\n",
        "objeto2 = enumerate(palavra)"
      ],
      "metadata": {
        "id": "oWnvVY-jUAnk"
      },
      "execution_count": 16,
      "outputs": []
    },
    {
      "cell_type": "code",
      "source": [
        "print('Tipo: ', type(objeto1))\n",
        "print(list(enumerate(lista)))"
      ],
      "metadata": {
        "colab": {
          "base_uri": "https://localhost:8080/"
        },
        "id": "pM8l_-MoUOkr",
        "outputId": "460cfb7d-3811-4553-aa3f-0e744a2e0d47"
      },
      "execution_count": 17,
      "outputs": [
        {
          "output_type": "stream",
          "name": "stdout",
          "text": [
            "Tipo:  <class 'enumerate'>\n",
            "[(0, 'eat'), (1, 'sleep'), (2, 'repeat')]\n"
          ]
        }
      ]
    },
    {
      "cell_type": "code",
      "source": [
        "print(list(enumerate(palavra,2)))"
      ],
      "metadata": {
        "colab": {
          "base_uri": "https://localhost:8080/"
        },
        "id": "GvPotxlVUpZw",
        "outputId": "e8d81ac7-bafd-4c38-ccfe-c8ba408307db"
      },
      "execution_count": 18,
      "outputs": [
        {
          "output_type": "stream",
          "name": "stdout",
          "text": [
            "[(2, 'g'), (3, 'e'), (4, 'e'), (5, 'k')]\n"
          ]
        }
      ]
    },
    {
      "cell_type": "code",
      "source": [
        "s = 'viva o python'\n",
        "for ch in s:\n",
        "  print('Oi')"
      ],
      "metadata": {
        "colab": {
          "base_uri": "https://localhost:8080/"
        },
        "id": "1BD6KJNiVDu5",
        "outputId": "9cceb839-3fc9-4da8-ad1f-5e49f95e8282"
      },
      "execution_count": 21,
      "outputs": [
        {
          "output_type": "stream",
          "name": "stdout",
          "text": [
            "Oi\n",
            "Oi\n",
            "Oi\n",
            "Oi\n",
            "Oi\n",
            "Oi\n",
            "Oi\n",
            "Oi\n",
            "Oi\n",
            "Oi\n",
            "Oi\n",
            "Oi\n",
            "Oi\n"
          ]
        }
      ]
    },
    {
      "cell_type": "code",
      "source": [
        "s = 'viva o python'\n",
        "for ch in s[3:8]:\n",
        "  print('Oi')"
      ],
      "metadata": {
        "colab": {
          "base_uri": "https://localhost:8080/"
        },
        "id": "9JG0OZWBWAAP",
        "outputId": "95e7622f-d26b-4103-e152-ff654a5f09d6"
      },
      "execution_count": 22,
      "outputs": [
        {
          "output_type": "stream",
          "name": "stdout",
          "text": [
            "Oi\n",
            "Oi\n",
            "Oi\n",
            "Oi\n",
            "Oi\n"
          ]
        }
      ]
    },
    {
      "cell_type": "code",
      "source": [
        "par = 0\n",
        "impar = 0\n",
        "\n",
        "for produto in range(10):\n",
        "  numero = float(input('Digite o um número inteiro: '))\n",
        "  if (numero % 2) == 0: par = par + 1 \n",
        "  else: impar = impar + 1\n",
        "\n",
        "print('A quantidade total de pares é:', par)\n",
        "print('A quantidade total de impares é:', impar)"
      ],
      "metadata": {
        "colab": {
          "base_uri": "https://localhost:8080/"
        },
        "id": "ARkEpzxlWyCT",
        "outputId": "6b37ebce-1240-4112-c919-2ed8ea58658a"
      },
      "execution_count": 5,
      "outputs": [
        {
          "output_type": "stream",
          "name": "stdout",
          "text": [
            "Digite o um número inteiro: 2\n",
            "Digite o um número inteiro: 4\n",
            "Digite o um número inteiro: 5\n",
            "Digite o um número inteiro: 3\n",
            "Digite o um número inteiro: 4\n",
            "Digite o um número inteiro: 5\n",
            "Digite o um número inteiro: 6\n",
            "Digite o um número inteiro: 7\n",
            "Digite o um número inteiro: 7\n",
            "Digite o um número inteiro: 1\n",
            "A quantidade total de pares é: 4\n",
            "A quantidade total de impares é: 6\n"
          ]
        }
      ]
    },
    {
      "cell_type": "code",
      "source": [
        "for nome in ['Reginaldo','Gisele Pintcher','Scoob',\n",
        "'Marlene','Zezinho','Cibele','Suely']:\n",
        "  convite = ('Oi, ' + nome + '! Por favor, venha para o sábado pet em minha casa')\n",
        "  print(convite)"
      ],
      "metadata": {
        "colab": {
          "base_uri": "https://localhost:8080/"
        },
        "id": "KXjbrRZKZI5K",
        "outputId": "2d60d24e-48b9-4d44-d679-cdd55a99d897"
      },
      "execution_count": 6,
      "outputs": [
        {
          "output_type": "stream",
          "name": "stdout",
          "text": [
            "Oi, Reginaldo! Por favor, venha para o sábado pet em minha casa\n",
            "Oi, Gisele Pintcher! Por favor, venha para o sábado pet em minha casa\n",
            "Oi, Scoob! Por favor, venha para o sábado pet em minha casa\n",
            "Oi, Marlene! Por favor, venha para o sábado pet em minha casa\n",
            "Oi, Zezinho! Por favor, venha para o sábado pet em minha casa\n",
            "Oi, Cibele! Por favor, venha para o sábado pet em minha casa\n",
            "Oi, Suely! Por favor, venha para o sábado pet em minha casa\n"
          ]
        }
      ]
    },
    {
      "cell_type": "code",
      "source": [
        "temperatura = float(input('Qual a temperatura? '))\n",
        "if temperatura > 30:\n",
        "  print('Vista roupas leves')\n",
        "else:\n",
        "  print('Busque seus casacos')"
      ],
      "metadata": {
        "colab": {
          "base_uri": "https://localhost:8080/"
        },
        "id": "CjkXDVQWdEj8",
        "outputId": "efb9e2d0-81d3-4efb-8cc6-a5bc4adce5e9"
      },
      "execution_count": 9,
      "outputs": [
        {
          "output_type": "stream",
          "name": "stdout",
          "text": [
            "Qual a temperatura? 20\n",
            "Busque seus casacos\n"
          ]
        }
      ]
    },
    {
      "cell_type": "code",
      "source": [
        "for um_char in 'Venha para a festa':\n",
        "  print(um_char)"
      ],
      "metadata": {
        "colab": {
          "base_uri": "https://localhost:8080/"
        },
        "id": "msPl3M-dg0Yq",
        "outputId": "045c76e8-1b7d-4732-df34-91875b0766d6"
      },
      "execution_count": 11,
      "outputs": [
        {
          "output_type": "stream",
          "name": "stdout",
          "text": [
            "V\n",
            "e\n",
            "n\n",
            "h\n",
            "a\n",
            " \n",
            "p\n",
            "a\n",
            "r\n",
            "a\n",
            " \n",
            "a\n",
            " \n",
            "f\n",
            "e\n",
            "s\n",
            "t\n",
            "a\n"
          ]
        }
      ]
    },
    {
      "cell_type": "code",
      "source": [
        "for um_valor in range(10):\n",
        "  print(um_valor)"
      ],
      "metadata": {
        "colab": {
          "base_uri": "https://localhost:8080/"
        },
        "id": "8aWz1Oz7iBV4",
        "outputId": "18eb722d-df3a-4170-bdb2-dba6804473f8"
      },
      "execution_count": 12,
      "outputs": [
        {
          "output_type": "stream",
          "name": "stdout",
          "text": [
            "0\n",
            "1\n",
            "2\n",
            "3\n",
            "4\n",
            "5\n",
            "6\n",
            "7\n",
            "8\n",
            "9\n"
          ]
        }
      ]
    },
    {
      "cell_type": "code",
      "source": [
        "frase = 'Educação não transforma o mundo. Educação muda pessoas. Pessoas transformam o mundo. (Paulo Freire)'\n",
        "print(frase.count('s'))"
      ],
      "metadata": {
        "colab": {
          "base_uri": "https://localhost:8080/"
        },
        "id": "PH_QgUskiZz8",
        "outputId": "9380d9d5-d08e-49b4-8670-d1d0e3d37646"
      },
      "execution_count": 16,
      "outputs": [
        {
          "output_type": "stream",
          "name": "stdout",
          "text": [
            "8\n"
          ]
        }
      ]
    },
    {
      "cell_type": "code",
      "source": [
        "diaDaSemana = str(input('Qual dia da semana? '))\n",
        "diaDaSemana = diaDaSemana.title()\n",
        "if(diaDaSemana == 'Domingo' or diaDaSemana == 'Sábado'):\n",
        "  print('Hoje é dia de descanso')\n",
        "else:\n",
        "  print('Você precisa trabalhar!')\n"
      ],
      "metadata": {
        "colab": {
          "base_uri": "https://localhost:8080/"
        },
        "id": "KESr9xs-jJfg",
        "outputId": "19ae3b95-1b2a-4045-e00f-5e16a9866eea"
      },
      "execution_count": 48,
      "outputs": [
        {
          "output_type": "stream",
          "name": "stdout",
          "text": [
            "Qual dia da semana? DOMINGO\n",
            "Hoje é dia de descanso\n"
          ]
        }
      ]
    },
    {
      "cell_type": "code",
      "source": [
        "for x in range (30):\n",
        "  if (x % 2) == 0:\n",
        "    x = [x]\n",
        "    print(x)\n",
        "  else:\n",
        "    impar = x * x\n",
        "    print(impar)"
      ],
      "metadata": {
        "colab": {
          "base_uri": "https://localhost:8080/"
        },
        "id": "8qWTmvndqBQP",
        "outputId": "08cbde1c-7b3f-4379-8c32-f454d3f91f9a"
      },
      "execution_count": 65,
      "outputs": [
        {
          "output_type": "stream",
          "name": "stdout",
          "text": [
            "[0]\n",
            "1\n",
            "[2]\n",
            "9\n",
            "[4]\n",
            "25\n",
            "[6]\n",
            "49\n",
            "[8]\n",
            "81\n",
            "[10]\n",
            "121\n",
            "[12]\n",
            "169\n",
            "[14]\n",
            "225\n",
            "[16]\n",
            "289\n",
            "[18]\n",
            "361\n",
            "[20]\n",
            "441\n",
            "[22]\n",
            "529\n",
            "[24]\n",
            "625\n",
            "[26]\n",
            "729\n",
            "[28]\n",
            "841\n"
          ]
        }
      ]
    },
    {
      "cell_type": "code",
      "source": [],
      "metadata": {
        "id": "s__GSGeWucg8"
      },
      "execution_count": null,
      "outputs": []
    }
  ]
}