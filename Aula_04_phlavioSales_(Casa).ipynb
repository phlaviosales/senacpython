{
  "nbformat": 4,
  "nbformat_minor": 0,
  "metadata": {
    "colab": {
      "provenance": [],
      "collapsed_sections": [],
      "authorship_tag": "ABX9TyMf9mbZ7Jt+7jfiiNcVPAYz",
      "include_colab_link": true
    },
    "kernelspec": {
      "name": "python3",
      "display_name": "Python 3"
    },
    "language_info": {
      "name": "python"
    }
  },
  "cells": [
    {
      "cell_type": "markdown",
      "metadata": {
        "id": "view-in-github",
        "colab_type": "text"
      },
      "source": [
        "<a href=\"https://colab.research.google.com/github/phlaviosales/senacpython/blob/main/Aula_04_phlavioSales_(Casa).ipynb\" target=\"_parent\"><img src=\"https://colab.research.google.com/assets/colab-badge.svg\" alt=\"Open In Colab\"/></a>"
      ]
    },
    {
      "cell_type": "code",
      "execution_count": null,
      "metadata": {
        "id": "dQTbNC0p2AaL",
        "colab": {
          "base_uri": "https://localhost:8080/"
        },
        "outputId": "e46accd8-ecda-47c8-c8a6-0ccd9da208a1"
      },
      "outputs": [
        {
          "output_type": "stream",
          "name": "stdout",
          "text": [
            "Digite o um número inteiro: 12\n",
            "Digite o um número inteiro: 2\n",
            "Digite o um número inteiro: 5\n",
            "Digite o um número inteiro: 8\n",
            "Digite o um número inteiro: 1\n",
            "Digite o um número inteiro: 2\n",
            "Digite o um número inteiro: 5\n",
            "Digite o um número inteiro: 8\n",
            "Digite o um número inteiro: 98\n",
            "Digite o um número inteiro: 10\n",
            "A quantidade total de pares é: 7\n",
            "A quantidade total de impares é: 3\n"
          ]
        }
      ],
      "source": [
        "# Desafio 01\n",
        "\n",
        "par = 0\n",
        "impar = 0\n",
        "\n",
        "for produto in range(10):\n",
        "  numero = float(input('Digite o um número inteiro: '))\n",
        "  if (numero % 2) == 0: par = par + 1 \n",
        "  else: impar = impar + 1\n",
        "\n",
        "print('A quantidade total de pares é:', par)\n",
        "print('A quantidade total de impares é:', impar)"
      ]
    },
    {
      "cell_type": "code",
      "source": [
        "# Desafio 02\n",
        "\n",
        "diaDaSemana = str(input('Qual dia da semana? '))\n",
        "diaDaSemana = diaDaSemana.title()\n",
        "if(diaDaSemana == 'Domingo' or diaDaSemana == 'Sábado'):\n",
        "  print('Hoje é dia de descanso')\n",
        "else:\n",
        "  print('Você precisa trabalhar!')\n"
      ],
      "metadata": {
        "colab": {
          "base_uri": "https://localhost:8080/"
        },
        "id": "N0PqGMICQBZJ",
        "outputId": "2f6e4d5a-6d4a-43f6-bebe-0f8bd2d9e9e1"
      },
      "execution_count": null,
      "outputs": [
        {
          "output_type": "stream",
          "name": "stdout",
          "text": [
            "Qual dia da semana? Domingo\n",
            "Hoje é dia de descanso\n"
          ]
        }
      ]
    },
    {
      "cell_type": "code",
      "source": [
        "# Desafio 03\n",
        "\n",
        "for x in range (30):\n",
        "  if (x % 2) == 0:\n",
        "    x = [x]\n",
        "    print(x)\n",
        "  else:\n",
        "    impar = x * x\n",
        "    print(impar)"
      ],
      "metadata": {
        "colab": {
          "base_uri": "https://localhost:8080/"
        },
        "id": "MwosRLn5QkcI",
        "outputId": "229e6b3c-e4b8-45ad-8007-57edb7c50075"
      },
      "execution_count": null,
      "outputs": [
        {
          "output_type": "stream",
          "name": "stdout",
          "text": [
            "[0]\n",
            "1\n",
            "[2]\n",
            "9\n",
            "[4]\n",
            "25\n",
            "[6]\n",
            "49\n",
            "[8]\n",
            "81\n",
            "[10]\n",
            "121\n",
            "[12]\n",
            "169\n",
            "[14]\n",
            "225\n",
            "[16]\n",
            "289\n",
            "[18]\n",
            "361\n",
            "[20]\n",
            "441\n",
            "[22]\n",
            "529\n",
            "[24]\n",
            "625\n",
            "[26]\n",
            "729\n",
            "[28]\n",
            "841\n"
          ]
        }
      ]
    },
    {
      "cell_type": "code",
      "source": [
        "# Desafio 04\n",
        "\n",
        "palavra = 'amanhecer'\n",
        "\n",
        "for ind, vogais_achadas in enumerate(palavra):\n",
        "  if(vogais_achadas in 'aeiou'):\n",
        "    print(vogais_achadas,ind)"
      ],
      "metadata": {
        "colab": {
          "base_uri": "https://localhost:8080/"
        },
        "id": "S8JD4YkbQEYA",
        "outputId": "870151cf-9f2e-4427-9870-9fa3dfc03113"
      },
      "execution_count": null,
      "outputs": [
        {
          "output_type": "stream",
          "name": "stdout",
          "text": [
            "a 0\n",
            "a 2\n",
            "e 5\n",
            "e 7\n"
          ]
        }
      ]
    },
    {
      "cell_type": "code",
      "source": [
        "# Prática 01\n",
        "\n",
        "for nome in ['Reginaldo','Gisele Pintcher','Scoob',\n",
        "'Marlene','Zezinho','Cibele','Suely']:\n",
        "  convite = ('Oi, ' + nome + '! Por favor, venha para o sábado pet em minha casa')\n",
        "  print(convite)"
      ],
      "metadata": {
        "colab": {
          "base_uri": "https://localhost:8080/"
        },
        "id": "v_b1JptzQGNg",
        "outputId": "1ff4dddd-764b-4f5b-8b3a-4b32ff1369f4"
      },
      "execution_count": null,
      "outputs": [
        {
          "output_type": "stream",
          "name": "stdout",
          "text": [
            "Oi, Reginaldo! Por favor, venha para o sábado pet em minha casa\n",
            "Oi, Gisele Pintcher! Por favor, venha para o sábado pet em minha casa\n",
            "Oi, Scoob! Por favor, venha para o sábado pet em minha casa\n",
            "Oi, Marlene! Por favor, venha para o sábado pet em minha casa\n",
            "Oi, Zezinho! Por favor, venha para o sábado pet em minha casa\n",
            "Oi, Cibele! Por favor, venha para o sábado pet em minha casa\n",
            "Oi, Suely! Por favor, venha para o sábado pet em minha casa\n"
          ]
        }
      ]
    },
    {
      "cell_type": "code",
      "source": [
        "# Prática 02\n",
        "\n",
        "listaFrutas = ['Morango','Uva','Pitomba','Siriguela','Carambola']\n",
        "'Morango' in listaFrutas"
      ],
      "metadata": {
        "colab": {
          "base_uri": "https://localhost:8080/"
        },
        "id": "pbab4iDMR2wb",
        "outputId": "6daddbf4-e8cd-48c2-9572-428bdeb5b6d5"
      },
      "execution_count": null,
      "outputs": [
        {
          "output_type": "execute_result",
          "data": {
            "text/plain": [
              "True"
            ]
          },
          "metadata": {},
          "execution_count": 16
        }
      ]
    },
    {
      "cell_type": "code",
      "source": [
        "# Prática 03\n",
        "\n",
        "for numero in range(100,150):\n",
        "  if numero % 2 == 0:\n",
        "    print('Esses são os números pares', numero)"
      ],
      "metadata": {
        "colab": {
          "base_uri": "https://localhost:8080/"
        },
        "id": "p856fYXSSlsi",
        "outputId": "0ad74171-695c-49db-9ef0-5cdd08118515"
      },
      "execution_count": null,
      "outputs": [
        {
          "output_type": "stream",
          "name": "stdout",
          "text": [
            "Esses são os números pares 100\n",
            "Esses são os números pares 102\n",
            "Esses são os números pares 104\n",
            "Esses são os números pares 106\n",
            "Esses são os números pares 108\n",
            "Esses são os números pares 110\n",
            "Esses são os números pares 112\n",
            "Esses são os números pares 114\n",
            "Esses são os números pares 116\n",
            "Esses são os números pares 118\n",
            "Esses são os números pares 120\n",
            "Esses são os números pares 122\n",
            "Esses são os números pares 124\n",
            "Esses são os números pares 126\n",
            "Esses são os números pares 128\n",
            "Esses são os números pares 130\n",
            "Esses são os números pares 132\n",
            "Esses são os números pares 134\n",
            "Esses são os números pares 136\n",
            "Esses são os números pares 138\n",
            "Esses são os números pares 140\n",
            "Esses são os números pares 142\n",
            "Esses são os números pares 144\n",
            "Esses são os números pares 146\n",
            "Esses são os números pares 148\n"
          ]
        }
      ]
    },
    {
      "cell_type": "code",
      "source": [
        "# Prática 04\n",
        "\n",
        "temperature = 40\n",
        "while temperature > 25:\n",
        "  print(temperature,'°c')\n",
        "  temperature = temperature - 1"
      ],
      "metadata": {
        "colab": {
          "base_uri": "https://localhost:8080/"
        },
        "id": "K4sozjbIU5tM",
        "outputId": "6afbd20b-5bdd-475f-84e4-55845ed8e878"
      },
      "execution_count": null,
      "outputs": [
        {
          "output_type": "stream",
          "name": "stdout",
          "text": [
            "40 °c\n",
            "39 °c\n",
            "38 °c\n",
            "37 °c\n",
            "36 °c\n",
            "35 °c\n",
            "34 °c\n",
            "33 °c\n",
            "32 °c\n",
            "31 °c\n",
            "30 °c\n",
            "29 °c\n",
            "28 °c\n",
            "27 °c\n",
            "26 °c\n"
          ]
        }
      ]
    },
    {
      "cell_type": "code",
      "source": [
        "# Prática 05\n",
        "\n",
        "contador = 0\n",
        "while contador < 100:\n",
        "  print(contador)\n",
        "  contador = contador + 1"
      ],
      "metadata": {
        "id": "HcB38kXCVN8t",
        "colab": {
          "base_uri": "https://localhost:8080/"
        },
        "outputId": "fa270e77-610e-49e6-bf2b-8776424de4b8"
      },
      "execution_count": 40,
      "outputs": [
        {
          "output_type": "stream",
          "name": "stdout",
          "text": [
            "0\n",
            "1\n",
            "2\n",
            "3\n",
            "4\n",
            "5\n",
            "6\n",
            "7\n",
            "8\n",
            "9\n",
            "10\n",
            "11\n",
            "12\n",
            "13\n",
            "14\n",
            "15\n",
            "16\n",
            "17\n",
            "18\n",
            "19\n",
            "20\n",
            "21\n",
            "22\n",
            "23\n",
            "24\n",
            "25\n",
            "26\n",
            "27\n",
            "28\n",
            "29\n",
            "30\n",
            "31\n",
            "32\n",
            "33\n",
            "34\n",
            "35\n",
            "36\n",
            "37\n",
            "38\n",
            "39\n",
            "40\n",
            "41\n",
            "42\n",
            "43\n",
            "44\n",
            "45\n",
            "46\n",
            "47\n",
            "48\n",
            "49\n",
            "50\n",
            "51\n",
            "52\n",
            "53\n",
            "54\n",
            "55\n",
            "56\n",
            "57\n",
            "58\n",
            "59\n",
            "60\n",
            "61\n",
            "62\n",
            "63\n",
            "64\n",
            "65\n",
            "66\n",
            "67\n",
            "68\n",
            "69\n",
            "70\n",
            "71\n",
            "72\n",
            "73\n",
            "74\n",
            "75\n",
            "76\n",
            "77\n",
            "78\n",
            "79\n",
            "80\n",
            "81\n",
            "82\n",
            "83\n",
            "84\n",
            "85\n",
            "86\n",
            "87\n",
            "88\n",
            "89\n",
            "90\n",
            "91\n",
            "92\n",
            "93\n",
            "94\n",
            "95\n",
            "96\n",
            "97\n",
            "98\n",
            "99\n"
          ]
        }
      ]
    },
    {
      "cell_type": "code",
      "source": [
        "# Prática 06\n",
        "\n",
        "lista = []\n",
        "variavel = 4\n",
        "\n",
        "for x in range(variavel,21):\n",
        "  if x % 2 == 0:\n",
        "    lista.append(x)\n",
        "\n",
        "print(lista)"
      ],
      "metadata": {
        "colab": {
          "base_uri": "https://localhost:8080/"
        },
        "id": "zAnI1PM5WHMj",
        "outputId": "5123778e-6a7c-4c89-f4db-b9db50edf308"
      },
      "execution_count": 71,
      "outputs": [
        {
          "output_type": "stream",
          "name": "stdout",
          "text": [
            "[4, 6, 8, 10, 12, 14, 16, 18, 20]\n"
          ]
        }
      ]
    },
    {
      "cell_type": "code",
      "source": [
        "# Prática 07\n",
        "\n",
        "temperatura = float(input('Qual a temperatura? '))\n",
        "if temperatura > 30:\n",
        "  print('Vista roupas leves')\n",
        "else:\n",
        "  print('Busque seus casacos')"
      ],
      "metadata": {
        "colab": {
          "base_uri": "https://localhost:8080/"
        },
        "id": "CpY4AuzOQ8uA",
        "outputId": "29e19c16-226f-4d9d-8866-fbd35feca08f"
      },
      "execution_count": null,
      "outputs": [
        {
          "output_type": "stream",
          "name": "stdout",
          "text": [
            "Qual a temperatura? 30\n",
            "Busque seus casacos\n"
          ]
        }
      ]
    },
    {
      "cell_type": "code",
      "source": [
        "# Prática 08 e 09\n",
        "\n",
        "frase = 'Educação não transforma o mundo. Educação muda pessoas. Pessoas transformam o mundo. (Paulo Freire)'\n",
        "print(frase.count('s'))"
      ],
      "metadata": {
        "colab": {
          "base_uri": "https://localhost:8080/"
        },
        "id": "jdlEWEwcRS4W",
        "outputId": "3de1042c-fcce-4234-f37c-b3f9a872e307"
      },
      "execution_count": null,
      "outputs": [
        {
          "output_type": "stream",
          "name": "stdout",
          "text": [
            "8\n"
          ]
        }
      ]
    },
    {
      "cell_type": "code",
      "source": [
        "# Prática 10\n",
        "\n",
        "lista = ['a', 'b', 'c', 'd', 'e', 'f', 'g', 'h']\n",
        "lista[6:]"
      ],
      "metadata": {
        "colab": {
          "base_uri": "https://localhost:8080/"
        },
        "id": "iXFKhevRZmWS",
        "outputId": "ee64cc04-49a1-4c32-8818-bbdc009da964"
      },
      "execution_count": 1,
      "outputs": [
        {
          "output_type": "execute_result",
          "data": {
            "text/plain": [
              "['g', 'h']"
            ]
          },
          "metadata": {},
          "execution_count": 1
        }
      ]
    },
    {
      "cell_type": "code",
      "source": [
        "# Prática 11\n",
        "\n",
        "dict1 = {'a':1,'b':2}\n",
        "dict2 = {'c':4,'d':5}\n",
        "dict3 = {}\n",
        "\n",
        "dict3 ['a'] = 4\n",
        "dict3 ['b'] = 5\n",
        "\n",
        "print(dict3)\n"
      ],
      "metadata": {
        "colab": {
          "base_uri": "https://localhost:8080/"
        },
        "id": "jm_v5T9wZmlZ",
        "outputId": "8ac215a8-ca41-45bb-987f-1722c5b71942"
      },
      "execution_count": 2,
      "outputs": [
        {
          "output_type": "stream",
          "name": "stdout",
          "text": [
            "{'a': 4, 'b': 5}\n"
          ]
        }
      ]
    },
    {
      "cell_type": "code",
      "source": [
        "# Prática 12\n",
        "\n",
        "for um_valor in range(10):\n",
        "  print(um_valor)"
      ],
      "metadata": {
        "colab": {
          "base_uri": "https://localhost:8080/"
        },
        "id": "_YgnNre1RibR",
        "outputId": "b7e3dd12-adc1-4e66-ddfc-b997a55ba7ce"
      },
      "execution_count": null,
      "outputs": [
        {
          "output_type": "stream",
          "name": "stdout",
          "text": [
            "0\n",
            "1\n",
            "2\n",
            "3\n",
            "4\n",
            "5\n",
            "6\n",
            "7\n",
            "8\n",
            "9\n"
          ]
        }
      ]
    },
    {
      "cell_type": "code",
      "source": [
        "# Prática 13\n",
        "\n",
        "for um_char in 'Venha para a festa':\n",
        "  print(um_char)"
      ],
      "metadata": {
        "colab": {
          "base_uri": "https://localhost:8080/"
        },
        "id": "Vv9YTFYLRkev",
        "outputId": "a63a1a05-1c4a-45b2-ff6a-f496a522293e"
      },
      "execution_count": null,
      "outputs": [
        {
          "output_type": "stream",
          "name": "stdout",
          "text": [
            "V\n",
            "e\n",
            "n\n",
            "h\n",
            "a\n",
            " \n",
            "p\n",
            "a\n",
            "r\n",
            "a\n",
            " \n",
            "a\n",
            " \n",
            "f\n",
            "e\n",
            "s\n",
            "t\n",
            "a\n"
          ]
        }
      ]
    },
    {
      "cell_type": "code",
      "source": [],
      "metadata": {
        "id": "vEXKl1t5RxKm"
      },
      "execution_count": null,
      "outputs": []
    }
  ]
}