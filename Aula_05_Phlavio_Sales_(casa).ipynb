{
  "nbformat": 4,
  "nbformat_minor": 0,
  "metadata": {
    "colab": {
      "provenance": [],
      "collapsed_sections": [],
      "authorship_tag": "ABX9TyMUXsajrKeOdHLyqnlauWEN",
      "include_colab_link": true
    },
    "kernelspec": {
      "name": "python3",
      "display_name": "Python 3"
    },
    "language_info": {
      "name": "python"
    }
  },
  "cells": [
    {
      "cell_type": "markdown",
      "metadata": {
        "id": "view-in-github",
        "colab_type": "text"
      },
      "source": [
        "<a href=\"https://colab.research.google.com/github/phlaviosales/senacpython/blob/main/Aula_05_Phlavio_Sales_(casa).ipynb\" target=\"_parent\"><img src=\"https://colab.research.google.com/assets/colab-badge.svg\" alt=\"Open In Colab\"/></a>"
      ]
    },
    {
      "cell_type": "markdown",
      "source": [
        "Exercício Aula 05"
      ],
      "metadata": {
        "id": "nnUrLg1MJeUd"
      }
    },
    {
      "cell_type": "code",
      "source": [
        "class Pessoa():\n",
        "  def __init__(self, name, age): #variáveis da função\n",
        "    self.nome=name #atributo da classe\n",
        "    self.idade=age #atributo da classe\n",
        "  def nascimento(self, idade): #variável da função\n",
        "    return(2022-idade) #retorna o ano que a pessoa nasceu\n",
        "\n",
        "pessoa1 = Pessoa(\"Maria\", 35) #criando um objeto a partir da classe Pessoa()\n",
        "pessoa1.nome #chamando um atributo do objeto\n",
        "pessoa1.idade #chamando um atributo do objeto\n",
        "pessoa1.nascimento(35) #chamando um método do objeto\n",
        "\n",
        "listaDePessoas=[] #criando lista vazia\n",
        "for i in range(5): #frequencia de repetição do loop for, segundo a questão\n",
        "  nome = str(input(\"Nome: \")) #entrada de dados\n",
        "  idade = int(input(\"Idade: \")) #entrada de dados\n",
        "  pessoa = Pessoa(nome, idade) #criando objeto pessoa com a classe Pessoa()\n",
        "  listaDePessoas.append(pessoa) #cada elemento da lista é um objeto com métodos() e atributos\n",
        "\n",
        "for objeto in range(len(listaDePessoas)): #acessando cada objeto da lista de objetos pessoa\n",
        "  #Acessando os atributos nome e idade de cada objeto\n",
        "  print(\"Nome: %s, idade: %d \" %(listaDePessoas[objeto].nome, listaDePessoas[objeto].idade))"
      ],
      "metadata": {
        "colab": {
          "base_uri": "https://localhost:8080/"
        },
        "id": "vGA7rBN8JhtY",
        "outputId": "0be6f339-567b-4272-f88c-f4ff1d22a17a"
      },
      "execution_count": 3,
      "outputs": [
        {
          "output_type": "stream",
          "name": "stdout",
          "text": [
            "Nome: Phlavio\n",
            "Idade: 31\n",
            "Nome: Aurora\n",
            "Idade: 12\n",
            "Nome: Gabriella\n",
            "Idade: 28\n",
            "Nome: Gabriel \n",
            "Idade: 10\n",
            "Nome: Camila\n",
            "Idade: 50\n",
            "Nome: Phlavio, idade: 31 \n",
            "Nome: Aurora, idade: 12 \n",
            "Nome: Gabriella, idade: 28 \n",
            "Nome: Gabriel , idade: 10 \n",
            "Nome: Camila, idade: 50 \n"
          ]
        }
      ]
    },
    {
      "cell_type": "code",
      "source": [
        "class Pessoa():\n",
        "  def __init__(self, nome, idade):\n",
        "    self.nome = nome\n",
        "    self.idade = idade\n",
        "  def saudacao(self):\n",
        "    print('Seja bem-vindo ao SENAC!')\n",
        "\n",
        "class PessoaFisica(Pessoa):\n",
        "  def __init__(self, cpf):\n",
        "    super().__init__(self, nome, idade)\n",
        "    self.nome = nome\n",
        "    self.idade = idade\n",
        "    self.cpf = cpf\n",
        "  def saudacao(self):\n",
        "    print('Seja bem-vindo ao SENAC!')\n",
        "\n",
        "  def impostoDeRendaPF(self, salario):\n",
        "      ir = salario*0.015\n",
        "      print(\" O valor do seu imposto de renda é R$\", ir)\n",
        "      return ir\n",
        "\n",
        "class PessoaJuridica(Pessoa):\n",
        "  def __init__(self, cnpj):\n",
        "    super().__init__(self, nome, idade)\n",
        "    self.nome = nome\n",
        "    self.idade = idade\n",
        "    self.cnpj = cnpj   \n",
        "  def saudacao(self):\n",
        "    print('Seja bem-vindo ao SENAC!')\n",
        "\n",
        "  def impostoDeRendaPJ(self, receitapj, porteDaEmpresa):\n",
        "    if porteDaEmpresa == 'Pequeno' or 'pequeno': \n",
        "      ir = receitapj*0.10\n",
        "      print(\" O valor do seu imposto de renda é R$\", ir)  \n",
        "    if porteDaEmpresa == 'Médio' or 'Medio' or 'medio': \n",
        "      ir = receitapj*0.15\n",
        "      print(\" O valor do seu imposto de renda é R$\", ir)\n",
        "    if porteDaEmpresa == 'Grande' or \"grande\": \n",
        "      ir = receitapj*0.20\n",
        "      print(\" O valor do seu imposto de renda é R$\", ir) \n",
        "      return ir\n",
        "\n",
        "nome = str(input(\"Nome: \"))\n",
        "age = int(input(\"Idade: \"))\n",
        "pforpj = str(input(\"PF ou PJ? Responda PJ para Pessoa Jurídica e PF para Pessoa Física: \" ))\n",
        "\n",
        "if pforpj == 'PF':\n",
        "  no_empregos = int(input(\"Digite quantos empregos você possui: \"))\n",
        "  for salary in range(no_empregos):\n",
        "    salario = int(input(\"Receita: \"))\n",
        "    salarios = []\n",
        "    salarios.append(salario)\n",
        "    comunidade.impostoDeRenda(salario)\n",
        "else:\n",
        "  pforpj =='PJ'\n",
        "  porteDaEmpresa = int(input('Qual porte da sua empresa: 1 - Grande, 2 - Médio ou 3 - Pequeno? '))\n",
        "  for profit in range(porteDaEmpresa):\n",
        "      receitapj = int(input(\"Receita: \"))\n",
        "      receitapjlist = []\n",
        "      receitapjlist.append(receitapj)\n",
        "      comunidade.impostoDeRenda(receitapj)\n",
        "\n",
        "individuo.saudacao()"
      ],
      "metadata": {
        "colab": {
          "base_uri": "https://localhost:8080/",
          "height": 373
        },
        "id": "NhqfvU9kJyz4",
        "outputId": "c7a5d03b-36a6-49f3-c85d-0a5a9e78945c"
      },
      "execution_count": 114,
      "outputs": [
        {
          "output_type": "stream",
          "name": "stdout",
          "text": [
            "Nome: PF\n",
            "Idade: 31\n",
            "PF ou PJ? Responda PJ para Pessoa Jurídica e PF para Pessoa Física: PF\n",
            "Digite quantos empregos você possui: 3\n",
            "Receita: 200\n",
            " O valor do seu imposto de renda é R$ 2.0\n",
            "Receita: 300\n",
            " O valor do seu imposto de renda é R$ 3.0\n",
            "Receita: 400\n",
            " O valor do seu imposto de renda é R$ 4.0\n"
          ]
        },
        {
          "output_type": "error",
          "ename": "NameError",
          "evalue": "ignored",
          "traceback": [
            "\u001b[0;31m---------------------------------------------------------------------------\u001b[0m",
            "\u001b[0;31mNameError\u001b[0m                                 Traceback (most recent call last)",
            "\u001b[0;32m<ipython-input-114-6342979d0e3a>\u001b[0m in \u001b[0;36m<module>\u001b[0;34m\u001b[0m\n\u001b[1;32m     61\u001b[0m       \u001b[0mcomunidade\u001b[0m\u001b[0;34m.\u001b[0m\u001b[0mimpostoDeRenda\u001b[0m\u001b[0;34m(\u001b[0m\u001b[0mreceitapj\u001b[0m\u001b[0;34m)\u001b[0m\u001b[0;34m\u001b[0m\u001b[0;34m\u001b[0m\u001b[0m\n\u001b[1;32m     62\u001b[0m \u001b[0;34m\u001b[0m\u001b[0m\n\u001b[0;32m---> 63\u001b[0;31m \u001b[0msaudacao\u001b[0m\u001b[0;34m(\u001b[0m\u001b[0;34m)\u001b[0m\u001b[0;34m\u001b[0m\u001b[0;34m\u001b[0m\u001b[0m\n\u001b[0m",
            "\u001b[0;31mNameError\u001b[0m: name 'saudacao' is not defined"
          ]
        }
      ]
    },
    {
      "cell_type": "code",
      "source": [
        "344324"
      ],
      "metadata": {
        "id": "vHq196uBN3C6"
      },
      "execution_count": 63,
      "outputs": []
    }
  ]
}