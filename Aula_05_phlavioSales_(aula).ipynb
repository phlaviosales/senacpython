{
  "nbformat": 4,
  "nbformat_minor": 0,
  "metadata": {
    "colab": {
      "provenance": [],
      "collapsed_sections": [],
      "authorship_tag": "ABX9TyNB+sh9F1fU/s6jSGFXMUty",
      "include_colab_link": true
    },
    "kernelspec": {
      "name": "python3",
      "display_name": "Python 3"
    },
    "language_info": {
      "name": "python"
    }
  },
  "cells": [
    {
      "cell_type": "markdown",
      "metadata": {
        "id": "view-in-github",
        "colab_type": "text"
      },
      "source": [
        "<a href=\"https://colab.research.google.com/github/phlaviosales/senacpython/blob/main/Aula_05_phlavioSales_(aula).ipynb\" target=\"_parent\"><img src=\"https://colab.research.google.com/assets/colab-badge.svg\" alt=\"Open In Colab\"/></a>"
      ]
    },
    {
      "cell_type": "code",
      "execution_count": null,
      "metadata": {
        "colab": {
          "base_uri": "https://localhost:8080/"
        },
        "id": "qYmlpzmr4TFK",
        "outputId": "c971e9c9-4b46-474c-9f8c-6ee8e0389cc1"
      },
      "outputs": [
        {
          "output_type": "stream",
          "name": "stdout",
          "text": [
            "Help on built-in function append:\n",
            "\n",
            "append(object, /) method of builtins.list instance\n",
            "    Append object to the end of the list.\n",
            "\n"
          ]
        }
      ],
      "source": [
        "lista=[]\n",
        "help(lista.append)"
      ]
    },
    {
      "cell_type": "code",
      "source": [
        "dir(list)"
      ],
      "metadata": {
        "colab": {
          "base_uri": "https://localhost:8080/"
        },
        "id": "mmt7JBaC4oLx",
        "outputId": "a2599f6e-0c78-443d-eb10-b2ed2ecb200a"
      },
      "execution_count": null,
      "outputs": [
        {
          "output_type": "execute_result",
          "data": {
            "text/plain": [
              "['__add__',\n",
              " '__class__',\n",
              " '__contains__',\n",
              " '__delattr__',\n",
              " '__delitem__',\n",
              " '__dir__',\n",
              " '__doc__',\n",
              " '__eq__',\n",
              " '__format__',\n",
              " '__ge__',\n",
              " '__getattribute__',\n",
              " '__getitem__',\n",
              " '__gt__',\n",
              " '__hash__',\n",
              " '__iadd__',\n",
              " '__imul__',\n",
              " '__init__',\n",
              " '__init_subclass__',\n",
              " '__iter__',\n",
              " '__le__',\n",
              " '__len__',\n",
              " '__lt__',\n",
              " '__mul__',\n",
              " '__ne__',\n",
              " '__new__',\n",
              " '__reduce__',\n",
              " '__reduce_ex__',\n",
              " '__repr__',\n",
              " '__reversed__',\n",
              " '__rmul__',\n",
              " '__setattr__',\n",
              " '__setitem__',\n",
              " '__sizeof__',\n",
              " '__str__',\n",
              " '__subclasshook__',\n",
              " 'append',\n",
              " 'clear',\n",
              " 'copy',\n",
              " 'count',\n",
              " 'extend',\n",
              " 'index',\n",
              " 'insert',\n",
              " 'pop',\n",
              " 'remove',\n",
              " 'reverse',\n",
              " 'sort']"
            ]
          },
          "metadata": {},
          "execution_count": 2
        }
      ]
    },
    {
      "cell_type": "code",
      "source": [
        "def nomeDaFuncao(arg1,arg2,etc):\n",
        "  bloco de comandos\n",
        "  return (retorno desejado)"
      ],
      "metadata": {
        "colab": {
          "base_uri": "https://localhost:8080/",
          "height": 130
        },
        "id": "2tr7WvsP5Lul",
        "outputId": "392a2e60-be92-4ee9-9a8f-1983bf7e0ced"
      },
      "execution_count": null,
      "outputs": [
        {
          "output_type": "error",
          "ename": "SyntaxError",
          "evalue": "ignored",
          "traceback": [
            "\u001b[0;36m  File \u001b[0;32m\"<ipython-input-3-d5306e85af2e>\"\u001b[0;36m, line \u001b[0;32m2\u001b[0m\n\u001b[0;31m    bloco de comandos\u001b[0m\n\u001b[0m           ^\u001b[0m\n\u001b[0;31mSyntaxError\u001b[0m\u001b[0;31m:\u001b[0m invalid syntax\n"
          ]
        }
      ]
    },
    {
      "cell_type": "code",
      "source": [
        "class NomeDeClasse():\n",
        "\n",
        "  #Construtor de classe\n",
        "  def __init__(self):\n",
        "  #atributos\n",
        "    self.atributo1 = valor1\n",
        "    self.atributoN = valorN\n",
        "\n",
        "  def exemploDeFuncao(self):\n",
        "    return \"Essa é uma função\"\n",
        "\n",
        "  def exemploDeMetodo(self):\n",
        "    print(\"Esse é um método\")"
      ],
      "metadata": {
        "id": "ecY_5GPs64ky"
      },
      "execution_count": null,
      "outputs": []
    },
    {
      "cell_type": "code",
      "source": [
        "# Exemplo 1\n",
        "\n",
        "class ContaCorrente():\n",
        "  def __init__(self):\n",
        "    self.numConta = 159\n",
        "    self.nomeTitular = 'Camila'\n",
        "    self.saldo = 0\n",
        "\n",
        "# Exemplo 2\n",
        "\n",
        "  def __init__(self, numConta, nomeTitular):\n",
        "    self.numConta = numConta\n",
        "    self.nomeTitular = nomeTitular\n",
        "\n",
        "# Exemplo 3\n",
        "\n",
        "  def __init__(self, numConta, nomeTitular, saldo):\n",
        "    self.numConta = numConta\n",
        "    self.nomeTitular = nomeTitular\n",
        "    self.saldo = saldo"
      ],
      "metadata": {
        "id": "fsI9fcqsAFWH"
      },
      "execution_count": null,
      "outputs": []
    },
    {
      "cell_type": "code",
      "source": [
        "class Lar():\n",
        "  def toctoc(self, pessoa1=None, pessoa2=None):\n",
        "    if pessoa1 is not None and pessoa2 is None:\n",
        "      print('Olá, '+ pessoa1)\n",
        "    elif pessoa1 is not None and pessoa2 is not None:\n",
        "      print('Olá, ' + pessoa1 + ' e ' + pessoa2)\n",
        "    else:\n",
        "      print('Quem está ai?' )\n",
        "\n",
        "batendoNaPorta = Lar()"
      ],
      "metadata": {
        "id": "kYv6snwtAgpB"
      },
      "execution_count": null,
      "outputs": []
    },
    {
      "cell_type": "code",
      "source": [
        "#Sobrecarga do método toctoc\n",
        "batendoNaPorta.toctoc()\n",
        "batendoNaPorta.toctoc('Rick','Morty')\n",
        "batendoNaPorta.toctoc('Professora Amanda')"
      ],
      "metadata": {
        "colab": {
          "base_uri": "https://localhost:8080/"
        },
        "id": "f7IdIzhBE-YR",
        "outputId": "e2e946d6-23ab-4885-fd78-8f8db88f78d0"
      },
      "execution_count": null,
      "outputs": [
        {
          "output_type": "stream",
          "name": "stdout",
          "text": [
            "Quem está ai?\n",
            "Olá, Rick e Morty\n",
            "Olá, Professora Amanda\n"
          ]
        }
      ]
    },
    {
      "cell_type": "markdown",
      "source": [
        "O self é sempre o primeiro parâmetro de todos os métodos chamados por uma instância de uma classe (Ou seja, um objeto). Self está sempre apontando para o objeto atual."
      ],
      "metadata": {
        "id": "a5JwkBcHIg_-"
      }
    },
    {
      "cell_type": "code",
      "source": [
        "# Criando uma classe\n",
        "class Animal():\n",
        "\n",
        "  #Construtor da classe\n",
        "  def __init__(self, name, weight, color):\n",
        "    #atributos\n",
        "    self.nome = name\n",
        "    self.peso = weight\n",
        "    self.corDoPelo = color\n",
        "\n",
        "  def imprimirDados(self):\n",
        "    return(\"Nome: %s \\nPeso: %s\" %(self.nome, self.peso))\n",
        "  \n",
        "  def latir(self, barulho):\n",
        "    print(barulho)\n",
        "\n",
        "#Instanciando um objeto cachorro\n",
        "caozinho = Animal(\"Marlene\", 7.9, \"Caramelo\")\n",
        "gato = Animal('Cibele', 4.5, 'Cinza')\n",
        "\n",
        "#Chamando o método do objeto criado\n",
        "print(caozinho.imprimirDados())\n",
        "caozinho.latir('Au, Au!')\n",
        "\n",
        "print(gato.imprimirDados())\n",
        "gato.latir('Miau!')"
      ],
      "metadata": {
        "colab": {
          "base_uri": "https://localhost:8080/"
        },
        "id": "9Bb-SGqDIfpf",
        "outputId": "df3b5802-c723-4a3c-e01f-c19f72e4d433"
      },
      "execution_count": null,
      "outputs": [
        {
          "output_type": "stream",
          "name": "stdout",
          "text": [
            "Nome: Marlene \n",
            "Peso: 7.9\n",
            "Au, Au!\n",
            "Nome: Cibele \n",
            "Peso: 4.5\n",
            "Miau!\n"
          ]
        }
      ]
    },
    {
      "cell_type": "code",
      "source": [
        "# Criando uma classe chamada Livro\n",
        "\n",
        "class Livro():\n",
        "\n",
        "  # Este método vai inicializar cada objeto criado a partir desta classe\n",
        "  # O nome deste método é __init__\n",
        "  # (self) é uma referência a cada atributo de um objeto criado a partir desta classe\n",
        "  def __init__(self):\n",
        "\n",
        "    # Atributos de cada objeto criado a partir desta classe.\n",
        "    # O self indica que estes são atributos dos objetos\n",
        "    self.titulo = 'O Monge e o Executivo'\n",
        "    self.isbn = 9988888\n",
        "    print('Construtor chamado para criar um objeto desta classe')\n",
        "\n",
        "  def imprime(self):\n",
        "    print('Foi criado o livro %s e ISBN %d' %(self.titulo, self.isbn))"
      ],
      "metadata": {
        "id": "z0C-mnt5L8Oo"
      },
      "execution_count": null,
      "outputs": []
    },
    {
      "cell_type": "code",
      "source": [
        "# Criando uma instância da classe Livro\n",
        "Livro1 = Livro()"
      ],
      "metadata": {
        "colab": {
          "base_uri": "https://localhost:8080/"
        },
        "id": "wOOoUlVwR52_",
        "outputId": "30cdc0e9-2c7b-4268-94de-87156ee9ea51"
      },
      "execution_count": null,
      "outputs": [
        {
          "output_type": "stream",
          "name": "stdout",
          "text": [
            "Construtor chamado para criar um objeto desta classe\n"
          ]
        }
      ]
    },
    {
      "cell_type": "markdown",
      "source": [
        "Construtor chamado para criar um objeto desta classe"
      ],
      "metadata": {
        "id": "5d2rtVqjSDNO"
      }
    },
    {
      "cell_type": "code",
      "source": [
        "# Tipo do Objeto Livro1\n",
        "type(Livro1)"
      ],
      "metadata": {
        "colab": {
          "base_uri": "https://localhost:8080/"
        },
        "id": "tQZXiPZSSGLy",
        "outputId": "500e9268-e533-4c2b-fd72-a9cd53653e44"
      },
      "execution_count": null,
      "outputs": [
        {
          "output_type": "execute_result",
          "data": {
            "text/plain": [
              "__main__.Livro"
            ]
          },
          "metadata": {},
          "execution_count": 35
        }
      ]
    },
    {
      "cell_type": "code",
      "source": [
        "# Atributo do objeto Livro1\n",
        "Livro1.titulo"
      ],
      "metadata": {
        "colab": {
          "base_uri": "https://localhost:8080/",
          "height": 36
        },
        "id": "ZFLx1r3mSJy3",
        "outputId": "63512c94-3aab-43eb-cfa0-a8ed8cd6446d"
      },
      "execution_count": null,
      "outputs": [
        {
          "output_type": "execute_result",
          "data": {
            "text/plain": [
              "'O Monge e o Executivo'"
            ],
            "application/vnd.google.colaboratory.intrinsic+json": {
              "type": "string"
            }
          },
          "metadata": {},
          "execution_count": 36
        }
      ]
    },
    {
      "cell_type": "code",
      "source": [
        "Livro1.imprime()"
      ],
      "metadata": {
        "colab": {
          "base_uri": "https://localhost:8080/"
        },
        "id": "85Z0u9qOUJaf",
        "outputId": "ee09e4ad-9538-4648-f711-8f1b91aac685"
      },
      "execution_count": null,
      "outputs": [
        {
          "output_type": "stream",
          "name": "stdout",
          "text": [
            "Foi criado o livro O Monge e o Executivo e ISBN 9988888\n"
          ]
        }
      ]
    },
    {
      "cell_type": "code",
      "source": [
        "# Criando a classe Livro com parâmetros no método construtor\n",
        "class Livro():\n",
        "  def __init__(self, titulo, isbn):\n",
        "      self.titulo = titulo\n",
        "      self.isbn = isbn\n",
        "      print(\"Construtor chamado para criar um objeto desta classe\")\n",
        "  \n",
        "  def imprime(self, titulo, isbn):\n",
        "    print('Este é o livro %s e ISBN %d' %(titulo, isbn))"
      ],
      "metadata": {
        "id": "7JEqxCMXUMDs"
      },
      "execution_count": null,
      "outputs": []
    },
    {
      "cell_type": "code",
      "source": [
        "# Criando o objeto Livro2 que é uma instância da classe Livro\n",
        "Livro2 = Livro('A Menina que Roubava Livros', 77886611)"
      ],
      "metadata": {
        "colab": {
          "base_uri": "https://localhost:8080/"
        },
        "id": "Rtkr-dQRVWB0",
        "outputId": "f05e03a8-8a6a-4134-f66b-edd367a8dc3f"
      },
      "execution_count": null,
      "outputs": [
        {
          "output_type": "stream",
          "name": "stdout",
          "text": [
            "Construtor chamado para criar um objeto desta classe\n"
          ]
        }
      ]
    },
    {
      "cell_type": "markdown",
      "source": [
        "Construtor chamado para criar um objeto desta classe"
      ],
      "metadata": {
        "id": "bRWuQ0OIViL6"
      }
    },
    {
      "cell_type": "code",
      "source": [
        "Livro2.titulo"
      ],
      "metadata": {
        "colab": {
          "base_uri": "https://localhost:8080/",
          "height": 36
        },
        "id": "67CJaPXzVo3z",
        "outputId": "7ae3d7b4-25e3-4abb-c679-90854759ba95"
      },
      "execution_count": null,
      "outputs": [
        {
          "output_type": "execute_result",
          "data": {
            "text/plain": [
              "'A Menina que Roubava Livros'"
            ],
            "application/vnd.google.colaboratory.intrinsic+json": {
              "type": "string"
            }
          },
          "metadata": {},
          "execution_count": 61
        }
      ]
    },
    {
      "cell_type": "markdown",
      "source": [
        "### **Utilizando herança**"
      ],
      "metadata": {
        "id": "jb7LODOKX_Cs"
      }
    },
    {
      "cell_type": "code",
      "source": [
        "# Criando a classe Animal - Super-classe\n",
        "class Animal():\n",
        "\n",
        "  def __init__(self):\n",
        "    print(\"Animal criado\")\n",
        "  \n",
        "  def Identif(self):\n",
        "    print(\"Animal\")\n",
        "\n",
        "  def comer(self):\n",
        "    print(\"Comendo\")"
      ],
      "metadata": {
        "id": "3qUmVCl2YBuN"
      },
      "execution_count": null,
      "outputs": []
    },
    {
      "cell_type": "code",
      "source": [
        "# Criando a classe Cachorro - Sub-classe\n",
        "class Cachorro(Animal):\n",
        "  def __init__(self):\n",
        "    Animal.__init__(self)\n",
        "    print('Objeto Cachorro criado')\n",
        "  def Identif(self):\n",
        "    print('Cachorro')\n",
        "  def latir(self):\n",
        "    print('Au Au!')"
      ],
      "metadata": {
        "id": "76Pizur9YXdY"
      },
      "execution_count": null,
      "outputs": []
    },
    {
      "cell_type": "code",
      "source": [
        "# Criadno um objeto (instanciando a classe)\n",
        "rex = Cachorro()"
      ],
      "metadata": {
        "colab": {
          "base_uri": "https://localhost:8080/"
        },
        "id": "hVAbMOdKchPd",
        "outputId": "51401f7b-b03a-4df5-9618-8606d83a94b9"
      },
      "execution_count": null,
      "outputs": [
        {
          "output_type": "stream",
          "name": "stdout",
          "text": [
            "Animal criado\n",
            "Objeto Cachorro criado\n"
          ]
        }
      ]
    },
    {
      "cell_type": "code",
      "source": [
        "rex.Identif()"
      ],
      "metadata": {
        "colab": {
          "base_uri": "https://localhost:8080/"
        },
        "id": "fxyj8Fjtchgj",
        "outputId": "b353d458-9425-45a9-daad-0887afeca461"
      },
      "execution_count": null,
      "outputs": [
        {
          "output_type": "stream",
          "name": "stdout",
          "text": [
            "Cachorro\n"
          ]
        }
      ]
    },
    {
      "cell_type": "code",
      "source": [
        "rex.comer()"
      ],
      "metadata": {
        "colab": {
          "base_uri": "https://localhost:8080/"
        },
        "id": "PrEFh-4Jchqd",
        "outputId": "fc5a8731-be8f-45fb-f88b-8c5df7acd2f0"
      },
      "execution_count": null,
      "outputs": [
        {
          "output_type": "stream",
          "name": "stdout",
          "text": [
            "Comendo\n"
          ]
        }
      ]
    },
    {
      "cell_type": "code",
      "source": [
        "rex.latir()"
      ],
      "metadata": {
        "colab": {
          "base_uri": "https://localhost:8080/"
        },
        "id": "tsOKAz8AdQ6n",
        "outputId": "4cadb7b5-084a-488b-f254-db48f40794d6"
      },
      "execution_count": null,
      "outputs": [
        {
          "output_type": "stream",
          "name": "stdout",
          "text": [
            "Au Au!\n"
          ]
        }
      ]
    },
    {
      "cell_type": "code",
      "source": [
        "class ClasseMae():\n",
        "\n",
        "  def __init__(self, atributo1):\n",
        "    self.atributo1 = atributo1\n",
        "    print(\"Essa é a classe mãe!\")\n",
        "\n",
        "class ClasseFilha(ClasseMae):\n",
        "  \n",
        "  def __init__(self, atributo1, atributo2):\n",
        "    super().__init__(atributo1)\n",
        "    self.atributo2 = atributo2\n",
        "    print(\"Essa é a classe herdeira\")"
      ],
      "metadata": {
        "id": "PlDSnDRkZsZB"
      },
      "execution_count": null,
      "outputs": []
    },
    {
      "cell_type": "markdown",
      "source": [
        "Exerício Sala de Aula"
      ],
      "metadata": {
        "id": "Zn8TV9pcd0V1"
      }
    },
    {
      "cell_type": "code",
      "source": [
        "class Person():\n",
        "  def __init__(self, name, age):\n",
        "    self.nome = name\n",
        "    self.idade = age\n",
        "\n",
        "  def typeYourAge(self, idade):\n",
        "    idade = input('Digite sua idade: ')\n",
        "    return (2022 - idade)"
      ],
      "metadata": {
        "id": "oiGlCW2Id29C"
      },
      "execution_count": null,
      "outputs": []
    },
    {
      "cell_type": "code",
      "source": [],
      "metadata": {
        "id": "lgOPP9zPgDuO"
      },
      "execution_count": null,
      "outputs": []
    }
  ]
}