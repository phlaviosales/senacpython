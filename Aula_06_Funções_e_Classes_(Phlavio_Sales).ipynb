{
  "nbformat": 4,
  "nbformat_minor": 0,
  "metadata": {
    "colab": {
      "provenance": [],
      "authorship_tag": "ABX9TyMzrW6kP07lUQoh7pJAYwWN",
      "include_colab_link": true
    },
    "kernelspec": {
      "name": "python3",
      "display_name": "Python 3"
    },
    "language_info": {
      "name": "python"
    }
  },
  "cells": [
    {
      "cell_type": "markdown",
      "metadata": {
        "id": "view-in-github",
        "colab_type": "text"
      },
      "source": [
        "<a href=\"https://colab.research.google.com/github/phlaviosales/senacpython/blob/main/Aula_06_Fun%C3%A7%C3%B5es_e_Classes_(Phlavio_Sales).ipynb\" target=\"_parent\"><img src=\"https://colab.research.google.com/assets/colab-badge.svg\" alt=\"Open In Colab\"/></a>"
      ]
    },
    {
      "cell_type": "code",
      "execution_count": 1,
      "metadata": {
        "colab": {
          "base_uri": "https://localhost:8080/"
        },
        "id": "df8XCbLwsD1M",
        "outputId": "2a9e4c37-6dfd-4fb1-e2c1-ccffc84067e6"
      },
      "outputs": [
        {
          "output_type": "stream",
          "name": "stdout",
          "text": [
            "Antes da condicional: sempre executa\n",
            "Código A: só executa caso a condição seja verdadeira\n",
            "Após a condicional: sempre executa\n"
          ]
        }
      ],
      "source": [
        "print(\"Antes da condicional: sempre executa\")\n",
        "\n",
        "cond = True\n",
        "\n",
        "if cond:\n",
        "  print(\"Código A: só executa caso a condição seja verdadeira\")\n",
        "\n",
        "print(\"Após a condicional: sempre executa\")"
      ]
    },
    {
      "cell_type": "code",
      "source": [
        "print(\"Antes da condicional: sempre executa\")\n",
        "\n",
        "cond = True\n",
        "\n",
        "if cond:\n",
        "  print(\"Código A: só executa caso a condição seja verdadeira\")\n",
        "else:\n",
        "  print(\"Código B: só executa caso a condição seja falsa\")\n",
        "\n",
        "print(\"Após a condicional: sempre executa\")"
      ],
      "metadata": {
        "colab": {
          "base_uri": "https://localhost:8080/"
        },
        "id": "qKDda_ClskC0",
        "outputId": "f2167a82-9243-4a87-edbe-1a987ffae0bb"
      },
      "execution_count": 2,
      "outputs": [
        {
          "output_type": "stream",
          "name": "stdout",
          "text": [
            "Antes da condicional: sempre executa\n",
            "Código A: só executa caso a condição seja verdadeira\n",
            "Após a condicional: sempre executa\n"
          ]
        }
      ]
    },
    {
      "cell_type": "code",
      "source": [
        "print(\"Antes da condicional: sempre executa\")\n",
        "\n",
        "cond1 = True\n",
        "cond2 = True\n",
        "\n",
        "if cond1:\n",
        "  print(\"Código A: só executa caso a condição 1 seja verdadeira (não importa a condição 2)\")\n",
        "else:\n",
        "  if cond2:\n",
        "    print(\"Código B: só executa caso a condição 2 seja verdadeira (condição 1 foi falsa)\")\n",
        "  else:\n",
        "    print(\"Código C: só executa caso a condição 2 seja falsa (condição 1 foi falsa)\")\n",
        "\n",
        "print(\"Após a condicional: sempre executa\")"
      ],
      "metadata": {
        "colab": {
          "base_uri": "https://localhost:8080/"
        },
        "id": "UdjLfnHFs1PC",
        "outputId": "22de06e8-b64a-4ba2-8bc3-755858d378da"
      },
      "execution_count": 4,
      "outputs": [
        {
          "output_type": "stream",
          "name": "stdout",
          "text": [
            "Antes da condicional: sempre executa\n",
            "Código A: só executa caso a condição 1 seja verdadeira (não importa a condição 2)\n",
            "Após a condicional: sempre executa\n"
          ]
        }
      ]
    },
    {
      "cell_type": "code",
      "source": [
        "print(\"Antes da condicional: sempre executa\")\n",
        "\n",
        "cond1 = True\n",
        "cond2 = True\n",
        "\n",
        "if cond1:\n",
        "    print(\"Código A: só executa caso a condição 1 seja verdadeira (não importa a condição 2)\")\n",
        "elif cond2:\n",
        "    print(\"Código B: só executa caso a condição 2 seja verdadeira (condição 1 foi falsa)\")\n",
        "else:\n",
        "    print(\"Código C: só executa caso a condição 2 seja falsa (condição 1 foi falsa)\")\n",
        "\n",
        "print(\"Após a condicional: sempre executa\")"
      ],
      "metadata": {
        "colab": {
          "base_uri": "https://localhost:8080/"
        },
        "id": "DCJUoANAtWN5",
        "outputId": "fc4430dc-d714-4283-c2ff-f78006629de2"
      },
      "execution_count": 5,
      "outputs": [
        {
          "output_type": "stream",
          "name": "stdout",
          "text": [
            "Antes da condicional: sempre executa\n",
            "Código A: só executa caso a condição 1 seja verdadeira (não importa a condição 2)\n",
            "Após a condicional: sempre executa\n"
          ]
        }
      ]
    },
    {
      "cell_type": "code",
      "source": [
        "lista = ['a','b','c','d','e','f']\n",
        "\n",
        "for i in lista:\n",
        "    print(f\"Nova iteração: elemento {i}\")"
      ],
      "metadata": {
        "colab": {
          "base_uri": "https://localhost:8080/"
        },
        "id": "J99t9zJMtdjR",
        "outputId": "8b0b1a5b-f90a-45fd-9904-ad6e2663ae8f"
      },
      "execution_count": 6,
      "outputs": [
        {
          "output_type": "stream",
          "name": "stdout",
          "text": [
            "Nova iteração: elemento a\n",
            "Nova iteração: elemento b\n",
            "Nova iteração: elemento c\n",
            "Nova iteração: elemento d\n",
            "Nova iteração: elemento e\n",
            "Nova iteração: elemento f\n"
          ]
        }
      ]
    },
    {
      "cell_type": "code",
      "source": [
        "for i in range(1,11):\n",
        "    print(f\"Nova iteração: elemento {i}\")"
      ],
      "metadata": {
        "colab": {
          "base_uri": "https://localhost:8080/"
        },
        "id": "ZeoBA4_EtlrB",
        "outputId": "daecb4e5-e961-495a-9550-e5367bf99c51"
      },
      "execution_count": 7,
      "outputs": [
        {
          "output_type": "stream",
          "name": "stdout",
          "text": [
            "Nova iteração: elemento 1\n",
            "Nova iteração: elemento 2\n",
            "Nova iteração: elemento 3\n",
            "Nova iteração: elemento 4\n",
            "Nova iteração: elemento 5\n",
            "Nova iteração: elemento 6\n",
            "Nova iteração: elemento 7\n",
            "Nova iteração: elemento 8\n",
            "Nova iteração: elemento 9\n",
            "Nova iteração: elemento 10\n"
          ]
        }
      ]
    },
    {
      "cell_type": "code",
      "source": [
        "dicio = { 'k1':'val1', 'k2':'val2', 'k3':'val3','k4':'val4', 'k5':'val5' }\n",
        "\n",
        "for k,v in dicio.items():\n",
        "    print(f\"Nova iteração: chave {k} --> valor {v}\")"
      ],
      "metadata": {
        "colab": {
          "base_uri": "https://localhost:8080/"
        },
        "id": "p-AY-IX-tm7Y",
        "outputId": "c36cab19-f6a1-4f27-8907-c3d9cdd22a9d"
      },
      "execution_count": 8,
      "outputs": [
        {
          "output_type": "stream",
          "name": "stdout",
          "text": [
            "Nova iteração: chave k1 --> valor val1\n",
            "Nova iteração: chave k2 --> valor val2\n",
            "Nova iteração: chave k3 --> valor val3\n",
            "Nova iteração: chave k4 --> valor val4\n",
            "Nova iteração: chave k5 --> valor val5\n"
          ]
        }
      ]
    },
    {
      "cell_type": "code",
      "source": [
        "var1, var2 = ( 'a', 'b' )\n",
        "\n",
        "print(f\"var1 recebe {var1}\")\n",
        "print(f\"var2 recebe {var2}\")"
      ],
      "metadata": {
        "colab": {
          "base_uri": "https://localhost:8080/"
        },
        "id": "WRml69iutqjR",
        "outputId": "b1d87799-92ab-4c7c-893e-450a520d18f6"
      },
      "execution_count": 9,
      "outputs": [
        {
          "output_type": "stream",
          "name": "stdout",
          "text": [
            "var1 recebe a\n",
            "var2 recebe b\n"
          ]
        }
      ]
    },
    {
      "cell_type": "code",
      "source": [
        "lista = ['a','b','c','d','e','f']\n",
        "\n",
        "for i,el in enumerate(lista):\n",
        "    print(f\"Nova iteração (índice {i}): elemento {el}\")"
      ],
      "metadata": {
        "colab": {
          "base_uri": "https://localhost:8080/"
        },
        "id": "adpDdSFqtxIQ",
        "outputId": "9537d2a2-f853-4f79-c67b-fc004b9019b8"
      },
      "execution_count": 10,
      "outputs": [
        {
          "output_type": "stream",
          "name": "stdout",
          "text": [
            "Nova iteração (índice 0): elemento a\n",
            "Nova iteração (índice 1): elemento b\n",
            "Nova iteração (índice 2): elemento c\n",
            "Nova iteração (índice 3): elemento d\n",
            "Nova iteração (índice 4): elemento e\n",
            "Nova iteração (índice 5): elemento f\n"
          ]
        }
      ]
    },
    {
      "cell_type": "code",
      "source": [
        "cntr = 0\n",
        "\n",
        "while cntr < 10:\n",
        "    print(f\"Nova iteração. Variável contadora tem valor {cntr}\")\n",
        "    cntr = cntr + 1"
      ],
      "metadata": {
        "colab": {
          "base_uri": "https://localhost:8080/"
        },
        "id": "kKDw17xVtyJ4",
        "outputId": "07302605-9b92-41ee-f127-eeca1274e050"
      },
      "execution_count": 11,
      "outputs": [
        {
          "output_type": "stream",
          "name": "stdout",
          "text": [
            "Nova iteração. Variável contadora tem valor 0\n",
            "Nova iteração. Variável contadora tem valor 1\n",
            "Nova iteração. Variável contadora tem valor 2\n",
            "Nova iteração. Variável contadora tem valor 3\n",
            "Nova iteração. Variável contadora tem valor 4\n",
            "Nova iteração. Variável contadora tem valor 5\n",
            "Nova iteração. Variável contadora tem valor 6\n",
            "Nova iteração. Variável contadora tem valor 7\n",
            "Nova iteração. Variável contadora tem valor 8\n",
            "Nova iteração. Variável contadora tem valor 9\n"
          ]
        }
      ]
    },
    {
      "cell_type": "code",
      "source": [
        "lista = ['a','b','c','d','e','f']\n",
        "i = 0\n",
        "\n",
        "while i < len(lista):\n",
        "    print(f\"Nova iteração: Elemento {lista[i]} (índice {i})\")\n",
        "    i = i + 1"
      ],
      "metadata": {
        "colab": {
          "base_uri": "https://localhost:8080/"
        },
        "id": "bv3CFKywt1GI",
        "outputId": "cadbd110-3159-4eb8-d53f-993b5b1e7c65"
      },
      "execution_count": 12,
      "outputs": [
        {
          "output_type": "stream",
          "name": "stdout",
          "text": [
            "Nova iteração: Elemento a (índice 0)\n",
            "Nova iteração: Elemento b (índice 1)\n",
            "Nova iteração: Elemento c (índice 2)\n",
            "Nova iteração: Elemento d (índice 3)\n",
            "Nova iteração: Elemento e (índice 4)\n",
            "Nova iteração: Elemento f (índice 5)\n"
          ]
        }
      ]
    },
    {
      "cell_type": "code",
      "source": [
        "# Atenção: esta célula gera um loop infinito. Para finalizá-lo, clique no botão \"pause\", na barra de ferramentas\n",
        "cond=True\n",
        "\n",
        "while cond:\n",
        "    print(\"Nova iteração\")"
      ],
      "metadata": {
        "id": "02ZqTBubt4E4"
      },
      "execution_count": null,
      "outputs": []
    },
    {
      "cell_type": "code",
      "source": [
        "def nome_funcao(par1, par2):\n",
        "    instrucao_1\n",
        "    instrucao_2\n",
        "    instrucao_3\n",
        "    return resultado"
      ],
      "metadata": {
        "id": "n4tT7eFft7F3"
      },
      "execution_count": 13,
      "outputs": []
    },
    {
      "cell_type": "code",
      "source": [
        "def foo():\n",
        "    print(\"Função `foo` foi executada\")\n",
        "    print(\"Como não há parâmetros, o comportamento da função sempre será o mesmo\")"
      ],
      "metadata": {
        "id": "fJYh6hipt9to"
      },
      "execution_count": 14,
      "outputs": []
    },
    {
      "cell_type": "code",
      "source": [
        "foo()"
      ],
      "metadata": {
        "colab": {
          "base_uri": "https://localhost:8080/"
        },
        "id": "bfTwGgXit-xY",
        "outputId": "5eba3990-dbbe-42f5-cf23-d43f59d6cfe5"
      },
      "execution_count": 15,
      "outputs": [
        {
          "output_type": "stream",
          "name": "stdout",
          "text": [
            "Função `foo` foi executada\n",
            "Como não há parâmetros, o comportamento da função sempre será o mesmo\n"
          ]
        }
      ]
    },
    {
      "cell_type": "code",
      "source": [
        "def bar(par1):\n",
        "    print(\"Função `bar` foi executada\")\n",
        "    print(f\"Parâmetro par1 recebe {par1} como valor (argumento)\")"
      ],
      "metadata": {
        "id": "XYtOwcZVuAiH"
      },
      "execution_count": 16,
      "outputs": []
    },
    {
      "cell_type": "code",
      "source": [
        "def baz(par1, par2):\n",
        "    print(\"Função `baz` foi executada\")\n",
        "    print(f\"Parâmetro par1 recebe argumento {par1}\")\n",
        "    print(f\"Parâmetro par2 recebe argumento {par2}\")"
      ],
      "metadata": {
        "id": "Gy83v-G5uDCX"
      },
      "execution_count": 17,
      "outputs": []
    },
    {
      "cell_type": "code",
      "source": [
        "baz('Santos','Dumont')"
      ],
      "metadata": {
        "colab": {
          "base_uri": "https://localhost:8080/"
        },
        "id": "3bZt8u_EuFI_",
        "outputId": "346eeedc-c27d-44b0-e8c5-17a3d082d76a"
      },
      "execution_count": 18,
      "outputs": [
        {
          "output_type": "stream",
          "name": "stdout",
          "text": [
            "Função `baz` foi executada\n",
            "Parâmetro par1 recebe argumento Santos\n",
            "Parâmetro par2 recebe argumento Dumont\n"
          ]
        }
      ]
    },
    {
      "cell_type": "code",
      "source": [
        "def baz2(par1, par2=\"Barney\"):\n",
        "    print(\"Função `baz2` foi executada\")\n",
        "    print(f\"Parâmetro par1 recebe argumento {par1}\")\n",
        "    print(f\"Parâmetro par2 recebe argumento {par2}\")"
      ],
      "metadata": {
        "id": "lR5MHG8fuG_w"
      },
      "execution_count": 19,
      "outputs": []
    },
    {
      "cell_type": "code",
      "source": [
        "baz2('Santos')"
      ],
      "metadata": {
        "colab": {
          "base_uri": "https://localhost:8080/"
        },
        "id": "Af__JvnGuIuf",
        "outputId": "3b3b42cb-6785-44e5-b5b8-6c7e49acd728"
      },
      "execution_count": 20,
      "outputs": [
        {
          "output_type": "stream",
          "name": "stdout",
          "text": [
            "Função `baz2` foi executada\n",
            "Parâmetro par1 recebe argumento Santos\n",
            "Parâmetro par2 recebe argumento Barney\n"
          ]
        }
      ]
    },
    {
      "cell_type": "code",
      "source": [
        "baz2('Santos', 'Dumont')"
      ],
      "metadata": {
        "colab": {
          "base_uri": "https://localhost:8080/"
        },
        "id": "rV9wBytauJvv",
        "outputId": "fb833ea1-31eb-4393-d9bb-d2ca0b98383c"
      },
      "execution_count": 21,
      "outputs": [
        {
          "output_type": "stream",
          "name": "stdout",
          "text": [
            "Função `baz2` foi executada\n",
            "Parâmetro par1 recebe argumento Santos\n",
            "Parâmetro par2 recebe argumento Dumont\n"
          ]
        }
      ]
    },
    {
      "cell_type": "code",
      "source": [
        "baz2(par2=\"Dumont\", par1=\"Santos\")"
      ],
      "metadata": {
        "colab": {
          "base_uri": "https://localhost:8080/"
        },
        "id": "eyd-Ow7BuKrn",
        "outputId": "0c1751d9-3bba-424b-9c81-64c783fe1f83"
      },
      "execution_count": 22,
      "outputs": [
        {
          "output_type": "stream",
          "name": "stdout",
          "text": [
            "Função `baz2` foi executada\n",
            "Parâmetro par1 recebe argumento Santos\n",
            "Parâmetro par2 recebe argumento Dumont\n"
          ]
        }
      ]
    },
    {
      "cell_type": "code",
      "source": [
        "def adicao(n1,n2):\n",
        "    res = n1 + n2\n",
        "    return res"
      ],
      "metadata": {
        "id": "HvrIuGyYuMBf"
      },
      "execution_count": 23,
      "outputs": []
    },
    {
      "cell_type": "code",
      "source": [
        "adicao(3,7)\n"
      ],
      "metadata": {
        "colab": {
          "base_uri": "https://localhost:8080/"
        },
        "id": "uQiBqLOluNpP",
        "outputId": "1eec5550-ddf1-47be-a714-a32a91808daa"
      },
      "execution_count": 24,
      "outputs": [
        {
          "output_type": "execute_result",
          "data": {
            "text/plain": [
              "10"
            ]
          },
          "metadata": {},
          "execution_count": 24
        }
      ]
    },
    {
      "cell_type": "code",
      "source": [
        "def subtracao(n1,n2):\n",
        "    res = n1 - n2\n",
        "    return res\n",
        "\n",
        "def multiplicacao(n1,n2):\n",
        "    return n1 * n2\n",
        "\n",
        "def divisao(n1,n2):\n",
        "    return n1/n2"
      ],
      "metadata": {
        "id": "MvtRcmGsuPs4"
      },
      "execution_count": 25,
      "outputs": []
    },
    {
      "cell_type": "code",
      "source": [
        "a,b,c,d = 3,5,7,10"
      ],
      "metadata": {
        "id": "Fb_VgoKiuQ_w"
      },
      "execution_count": 26,
      "outputs": []
    },
    {
      "cell_type": "code",
      "source": [
        "u = adicao(a,b)\n",
        "v = subtracao(d,c)\n",
        "w = multiplicacao(u,v)\n",
        "x = divisao(w,2)"
      ],
      "metadata": {
        "id": "4r1Gv8CtuSVf"
      },
      "execution_count": 27,
      "outputs": []
    },
    {
      "cell_type": "code",
      "source": [
        "x"
      ],
      "metadata": {
        "colab": {
          "base_uri": "https://localhost:8080/"
        },
        "id": "dM1EMCiPuTfv",
        "outputId": "85780c34-2d24-4d15-c316-6c5ae4eb6a6b"
      },
      "execution_count": 28,
      "outputs": [
        {
          "output_type": "execute_result",
          "data": {
            "text/plain": [
              "12.0"
            ]
          },
          "metadata": {},
          "execution_count": 28
        }
      ]
    },
    {
      "cell_type": "code",
      "source": [
        "divisao( multiplicacao( adicao(a,b), subtracao(d,c) ), 2)"
      ],
      "metadata": {
        "colab": {
          "base_uri": "https://localhost:8080/"
        },
        "id": "hwgmec9UuUhf",
        "outputId": "712dc310-a533-4037-c3eb-c6870ad1c4d1"
      },
      "execution_count": 29,
      "outputs": [
        {
          "output_type": "execute_result",
          "data": {
            "text/plain": [
              "12.0"
            ]
          },
          "metadata": {},
          "execution_count": 29
        }
      ]
    },
    {
      "cell_type": "code",
      "source": [
        "lambda x p1,p2,p3: expressão"
      ],
      "metadata": {
        "id": "iJFMKWaeuVf3"
      },
      "execution_count": null,
      "outputs": []
    },
    {
      "cell_type": "code",
      "source": [
        "lambda x: x**2 "
      ],
      "metadata": {
        "colab": {
          "base_uri": "https://localhost:8080/"
        },
        "id": "13hqNo5nu_o2",
        "outputId": "660892fa-e4e0-4633-ee74-1625d0fdd926"
      },
      "execution_count": 31,
      "outputs": [
        {
          "output_type": "execute_result",
          "data": {
            "text/plain": [
              "<function __main__.<lambda>(x)>"
            ]
          },
          "metadata": {},
          "execution_count": 31
        }
      ]
    },
    {
      "cell_type": "code",
      "source": [
        "(lambda x: x**2)(2)"
      ],
      "metadata": {
        "colab": {
          "base_uri": "https://localhost:8080/"
        },
        "id": "_WPz7o6mvApG",
        "outputId": "bb8c3619-5b5f-40c5-f422-e1b160b325c7"
      },
      "execution_count": 32,
      "outputs": [
        {
          "output_type": "execute_result",
          "data": {
            "text/plain": [
              "4"
            ]
          },
          "metadata": {},
          "execution_count": 32
        }
      ]
    },
    {
      "cell_type": "code",
      "source": [
        "(lambda x: x**3)(2)"
      ],
      "metadata": {
        "colab": {
          "base_uri": "https://localhost:8080/"
        },
        "id": "sOaSpdzrvcZt",
        "outputId": "a828dff3-9ce1-4eee-cd82-d713bbc86819"
      },
      "execution_count": 33,
      "outputs": [
        {
          "output_type": "execute_result",
          "data": {
            "text/plain": [
              "8"
            ]
          },
          "metadata": {},
          "execution_count": 33
        }
      ]
    },
    {
      "cell_type": "code",
      "source": [
        "(lambda x: x**4)(2)"
      ],
      "metadata": {
        "colab": {
          "base_uri": "https://localhost:8080/"
        },
        "id": "IPAD_ACBvdZN",
        "outputId": "8f814169-7e6c-4488-a1a6-5c81b5565d11"
      },
      "execution_count": 34,
      "outputs": [
        {
          "output_type": "execute_result",
          "data": {
            "text/plain": [
              "16"
            ]
          },
          "metadata": {},
          "execution_count": 34
        }
      ]
    },
    {
      "cell_type": "code",
      "source": [
        "exp2 = lambda x: x**2\n",
        "exp3 = lambda x: x**3\n",
        "exp4 = lambda x: x**4"
      ],
      "metadata": {
        "id": "sf4rkpPsvehE"
      },
      "execution_count": 35,
      "outputs": []
    },
    {
      "cell_type": "code",
      "source": [
        "print( exp2(2) )\n",
        "print( exp3(2) )\n",
        "print( exp4(2) )"
      ],
      "metadata": {
        "colab": {
          "base_uri": "https://localhost:8080/"
        },
        "id": "rFxYMMwvvfXF",
        "outputId": "ca52eadb-1cc6-49a8-fee3-d59c02f1c1ad"
      },
      "execution_count": 36,
      "outputs": [
        {
          "output_type": "stream",
          "name": "stdout",
          "text": [
            "4\n",
            "8\n",
            "16\n"
          ]
        }
      ]
    },
    {
      "cell_type": "code",
      "source": [
        "exp = lambda x,p=2: x**p"
      ],
      "metadata": {
        "id": "Hp79mZWMvgQl"
      },
      "execution_count": 37,
      "outputs": []
    },
    {
      "cell_type": "code",
      "source": [
        "print( exp(2) ) # por default, a potência é 2\n",
        "print( exp(2,2) )\n",
        "print( exp(2,3) )\n",
        "print( exp(2,4) )"
      ],
      "metadata": {
        "colab": {
          "base_uri": "https://localhost:8080/"
        },
        "id": "marP72vrvhu9",
        "outputId": "aadc4352-0f3f-4f31-b489-0ec085c4cb6e"
      },
      "execution_count": 38,
      "outputs": [
        {
          "output_type": "stream",
          "name": "stdout",
          "text": [
            "4\n",
            "4\n",
            "8\n",
            "16\n"
          ]
        }
      ]
    },
    {
      "cell_type": "code",
      "source": [
        "class Vehicle:\n",
        "    \n",
        "    def __init__(self, type, model, manufacturer, seat_capacity):\n",
        "        self.type = type\n",
        "        self.model = model\n",
        "        self.manufacturer = manufacturer\n",
        "        self.seat_capacity = seat_capacity"
      ],
      "metadata": {
        "id": "LosvyDHkviot"
      },
      "execution_count": 39,
      "outputs": []
    },
    {
      "cell_type": "code",
      "source": [
        "myPlane = Vehicle('plane', \"A320\", \"Airbus\", 180)\n",
        "myCar = Vehicle('car', model=\"Uno\", manufacturer=\"Fiat\", seat_capacity=5)"
      ],
      "metadata": {
        "id": "U4vG_DbfvkON"
      },
      "execution_count": 40,
      "outputs": []
    },
    {
      "cell_type": "code",
      "source": [
        "print( myPlane.type )\n",
        "print( myPlane.manufacturer )\n",
        "print( myPlane.model )\n",
        "print( myPlane.seat_capacity )"
      ],
      "metadata": {
        "colab": {
          "base_uri": "https://localhost:8080/"
        },
        "id": "1PemV9a0vlps",
        "outputId": "83096188-caf5-4601-b0a4-9e1b29d0ff66"
      },
      "execution_count": 41,
      "outputs": [
        {
          "output_type": "stream",
          "name": "stdout",
          "text": [
            "plane\n",
            "Airbus\n",
            "A320\n",
            "180\n"
          ]
        }
      ]
    },
    {
      "cell_type": "code",
      "source": [
        "print( myCar.type )\n",
        "print( myCar.manufacturer )\n",
        "print( myCar.model )\n",
        "print( myCar.seat_capacity )"
      ],
      "metadata": {
        "colab": {
          "base_uri": "https://localhost:8080/"
        },
        "id": "0DNGKNjOvmlN",
        "outputId": "16f0920c-0f59-480a-e7e7-0da7c3c8dfd1"
      },
      "execution_count": 42,
      "outputs": [
        {
          "output_type": "stream",
          "name": "stdout",
          "text": [
            "car\n",
            "Fiat\n",
            "Uno\n",
            "5\n"
          ]
        }
      ]
    },
    {
      "cell_type": "code",
      "source": [
        "myPlane.model = 'a321'"
      ],
      "metadata": {
        "id": "kRx07eQ7vnnE"
      },
      "execution_count": 43,
      "outputs": []
    },
    {
      "cell_type": "code",
      "source": [
        "myPlane.model"
      ],
      "metadata": {
        "colab": {
          "base_uri": "https://localhost:8080/",
          "height": 35
        },
        "id": "gTM6XaLyvtbc",
        "outputId": "605c6923-2378-4222-c972-457bccd3d5f6"
      },
      "execution_count": 44,
      "outputs": [
        {
          "output_type": "execute_result",
          "data": {
            "text/plain": [
              "'a321'"
            ],
            "application/vnd.google.colaboratory.intrinsic+json": {
              "type": "string"
            }
          },
          "metadata": {},
          "execution_count": 44
        }
      ]
    },
    {
      "cell_type": "code",
      "source": [
        "class Vehicle:\n",
        "    \n",
        "    def __init__(self, type, model, manufacturer, seat_capacity):\n",
        "        self.type = type\n",
        "        self.model = model\n",
        "        self.manufacturer = manufacturer\n",
        "        self.seat_capacity = seat_capacity\n",
        "        \n",
        "    # Getter methods\n",
        "    \n",
        "    def getModel(self):\n",
        "        return f\"{self.manufacturer} {self.model}\"\n",
        "        \n",
        "    def getSeatCapacity(self):\n",
        "        return self.seat_capacity"
      ],
      "metadata": {
        "id": "283H2B2mvuPc"
      },
      "execution_count": 45,
      "outputs": []
    },
    {
      "cell_type": "code",
      "source": [
        "myPlane = Vehicle('plane', \"A320\", \"Airbus\", 180)\n",
        "myCar = Vehicle('car', model=\"Uno\", manufacturer=\"Fiat\", seat_capacity=5)"
      ],
      "metadata": {
        "id": "pozbz1xXvv5E"
      },
      "execution_count": 46,
      "outputs": []
    },
    {
      "cell_type": "code",
      "source": [
        "print( myPlane.getModel() )\n",
        "print( f\"Cabem {myPlane.getSeatCapacity()} passageiros no {myPlane.getModel()}\" )"
      ],
      "metadata": {
        "colab": {
          "base_uri": "https://localhost:8080/"
        },
        "id": "1E3rS2Pgvw7k",
        "outputId": "0f989aae-595c-4473-ce92-878e6f53de29"
      },
      "execution_count": 47,
      "outputs": [
        {
          "output_type": "stream",
          "name": "stdout",
          "text": [
            "Airbus A320\n",
            "Cabem 180 passageiros no Airbus A320\n"
          ]
        }
      ]
    },
    {
      "cell_type": "code",
      "source": [
        "print( myCar.getModel() )\n",
        "print( f\"Cabem {myCar.getSeatCapacity()} passageiros no {myCar.getModel()}\" )"
      ],
      "metadata": {
        "colab": {
          "base_uri": "https://localhost:8080/"
        },
        "id": "nCpj5BWRvx3E",
        "outputId": "30cf0ece-5129-4411-d00d-3759c9ecee63"
      },
      "execution_count": 48,
      "outputs": [
        {
          "output_type": "stream",
          "name": "stdout",
          "text": [
            "Fiat Uno\n",
            "Cabem 5 passageiros no Fiat Uno\n"
          ]
        }
      ]
    },
    {
      "cell_type": "code",
      "source": [
        "class Vehicle:\n",
        "    \n",
        "    def __init__(self, type, model, manufacturer, seat_capacity):\n",
        "        self.type = type\n",
        "        self.model = model\n",
        "        self.manufacturer = manufacturer\n",
        "        self.seat_capacity = seat_capacity\n",
        "        \n",
        "        self.n_passengers_onboard = 0\n",
        "        \n",
        "    # Getter methods\n",
        "    \n",
        "    def getModel(self):\n",
        "        return f\"{self.manufacturer} {self.model}\"\n",
        "        \n",
        "    def getSeatCapacity(self):\n",
        "        return self.seat_capacity\n",
        "    \n",
        "    def getNumPassengersOnboard(self):\n",
        "        return self.n_passengers_onboard\n",
        "    \n",
        "    def getNumSeatsAvailable(self):\n",
        "        return self.seat_capacity - self.n_passengers_onboard\n",
        "    \n",
        "    # Setter methods\n",
        "    \n",
        "    def removeAllPassengers(self):\n",
        "        self.n_passengers_onboard = 0\n",
        "        \n",
        "    def embarkPassengers(self, n_passengers_to_embark):\n",
        "        \n",
        "        available_seats = self.getNumSeatsAvailable()\n",
        "        \n",
        "        if available_seats >= n_passengers_to_embark:\n",
        "            self.n_passengers_onboard += n_passengers_to_embark\n",
        "            return f\"Mais {n_passengers_to_embark} passageiros embarcados com sucesso!\"\n",
        "        \n",
        "        else:\n",
        "            return f\"Impossível embarcar mais {n_passengers_to_embark} passageiros! Apenas {available_seats} assentos disponíveis.\"\n",
        "        \n",
        "    def removePassengers(self, n_passengers_to_remove):\n",
        "        \n",
        "        if n_passengers_to_remove <= self.n_passengers_onboard:\n",
        "            self.n_passengers_onboard -= n_passengers_to_remove\n",
        "            return f\"Desembarcaram {n_passengers_to_remove} passageiros\"\n",
        "        \n",
        "        elif self.n_passengers_onboard > 0:\n",
        "            n_passengers_remaining = self.n_passengers_onboard\n",
        "            self.removeAllPassengers()\n",
        "            return f\"Havia apenas {n_passengers_remaining} embarcados! Todos desembarcaram.\"\n",
        "        \n",
        "        else:\n",
        "            return \"Nenhum passageiro a bordo\"        \n",
        "            return self.seat_capacity - self.n_passengers_onboard\n"
      ],
      "metadata": {
        "id": "NUN69SjavzqV"
      },
      "execution_count": 50,
      "outputs": []
    },
    {
      "cell_type": "code",
      "source": [
        "myPlane = Vehicle('plane', \"A320\", \"Airbus\", 180)\n",
        "myCar = Vehicle('car', \"Uno\", \"Fiat\", 5)"
      ],
      "metadata": {
        "id": "aUt6OfpQv2Qk"
      },
      "execution_count": 51,
      "outputs": []
    },
    {
      "cell_type": "code",
      "source": [
        "print( myPlane.embarkPassengers(50) )\n",
        "print( f\"{myPlane.getNumPassengersOnboard()} passageiros a bordo\" )\n",
        "print( f\"{myPlane.getNumSeatsAvailable()} assentos disponíveis\" )"
      ],
      "metadata": {
        "colab": {
          "base_uri": "https://localhost:8080/"
        },
        "id": "7WhHG0RqwKBE",
        "outputId": "0e61250a-9c94-4eb1-eea6-8522c4635f6f"
      },
      "execution_count": 52,
      "outputs": [
        {
          "output_type": "stream",
          "name": "stdout",
          "text": [
            "Mais 50 passageiros embarcados com sucesso!\n",
            "50 passageiros a bordo\n",
            "130 assentos disponíveis\n"
          ]
        }
      ]
    },
    {
      "cell_type": "code",
      "source": [
        "print(myPlane.removePassengers(5))\n",
        "print( f\"{myPlane.getNumPassengersOnboard()} passageiros a bordo\" )\n",
        "print( f\"{myPlane.getNumSeatsAvailable()} assentos disponíveis\" )"
      ],
      "metadata": {
        "colab": {
          "base_uri": "https://localhost:8080/"
        },
        "id": "J7rDTGTcwMPT",
        "outputId": "11005b14-e22c-4760-f329-0faceb49401c"
      },
      "execution_count": 53,
      "outputs": [
        {
          "output_type": "stream",
          "name": "stdout",
          "text": [
            "Desembarcaram 5 passageiros\n",
            "45 passageiros a bordo\n",
            "135 assentos disponíveis\n"
          ]
        }
      ]
    },
    {
      "cell_type": "code",
      "source": [
        "print( myCar.embarkPassengers(5) )\n",
        "print( f\"{myCar.getNumPassengersOnboard()} passageiros a bordo\" )\n",
        "print( f\"{myCar.getNumSeatsAvailable()} assentos disponíveis\" )"
      ],
      "metadata": {
        "colab": {
          "base_uri": "https://localhost:8080/"
        },
        "id": "xeKz3D_nwPbT",
        "outputId": "330b6155-0830-449f-e842-4e97281f636f"
      },
      "execution_count": 54,
      "outputs": [
        {
          "output_type": "stream",
          "name": "stdout",
          "text": [
            "Mais 5 passageiros embarcados com sucesso!\n",
            "5 passageiros a bordo\n",
            "0 assentos disponíveis\n"
          ]
        }
      ]
    },
    {
      "cell_type": "code",
      "source": [
        "print(myCar.removePassengers(5))\n",
        "print( f\"{myCar.getNumPassengersOnboard()} passageiros a bordo\" )\n",
        "print( f\"{myCar.getNumSeatsAvailable()} assentos disponíveis\" )"
      ],
      "metadata": {
        "colab": {
          "base_uri": "https://localhost:8080/"
        },
        "id": "KQMh6ylxwRir",
        "outputId": "4aa77891-777e-4226-a899-0168003e3023"
      },
      "execution_count": 55,
      "outputs": [
        {
          "output_type": "stream",
          "name": "stdout",
          "text": [
            "Desembarcaram 5 passageiros\n",
            "0 passageiros a bordo\n",
            "5 assentos disponíveis\n"
          ]
        }
      ]
    },
    {
      "cell_type": "code",
      "source": [
        "class Airplane(Vehicle):\n",
        "    def __init__(self, model, manufacturer, airline, seat_capacity):\n",
        "        super().__init__(type='plane',model=model,manufacturer=manufacturer,seat_capacity=seat_capacity)\n",
        "        self.airline = airline\n",
        "        \n",
        "    def takeoff(self):\n",
        "        print(f\"O {self.getModel()} da {self.airline} está decolando com {self.getNumPassengersOnboard()} passageiros\")\n",
        "        \n",
        "        \n",
        "        \n",
        "        \n",
        "        \n",
        "class Car(Vehicle):\n",
        "    def __init__(self, model, manufacturer, seat_capacity):\n",
        "        super().__init__(type='car',model=model,manufacturer=manufacturer,seat_capacity=seat_capacity)\n",
        "        \n",
        "    def embarkPassengers(self, n_passengers_to_embark, name_driver):\n",
        "\n",
        "            available_seats = self.getNumSeatsAvailable()\n",
        "            self.name_driver = name_driver\n",
        "\n",
        "            if available_seats >= n_passengers_to_embark:\n",
        "                self.n_passengers_onboard += n_passengers_to_embark\n",
        "                return f\"Mais {n_passengers_to_embark} passageiros embarcados com sucesso!\"\n",
        "\n",
        "            else:\n",
        "                return f\"Impossível embarcar mais {n_passengers_to_embark} passageiros! Apenas {available_seats} assentos disponíveis.\"\n",
        "\n",
        "        \n",
        "    def drive(self):\n",
        "        if self.getNumPassengersOnboard()>0:\n",
        "            print(f\"O {self.getModel()}, conduzido por {self.name_driver}, está na estrada com {self.getNumPassengersOnboard()} passageiros\")\n",
        "\n",
        "        else:\n",
        "            print(\"Um carro não pode operar sem motorista!\")"
      ],
      "metadata": {
        "id": "3OG5FpbywS2D"
      },
      "execution_count": 56,
      "outputs": []
    },
    {
      "cell_type": "code",
      "source": [
        "latamPlane = Airplane('A320','Airbus', \"Latam\", 180)\n",
        "\n",
        "print(latamPlane.embarkPassengers(130))\n",
        "latamPlane.takeoff()"
      ],
      "metadata": {
        "colab": {
          "base_uri": "https://localhost:8080/"
        },
        "id": "HKwUN6sBwVD7",
        "outputId": "bd8f24ff-97bf-4138-8b2e-ecf8b1e43d57"
      },
      "execution_count": 57,
      "outputs": [
        {
          "output_type": "stream",
          "name": "stdout",
          "text": [
            "Mais 130 passageiros embarcados com sucesso!\n",
            "O Airbus A320 da Latam está decolando com 130 passageiros\n"
          ]
        }
      ]
    },
    {
      "cell_type": "code",
      "source": [
        "azulPlane = Airplane('ERJ190','Embraer', \"Azul\", 100)\n",
        "\n",
        "print(azulPlane.embarkPassengers(70))\n",
        "azulPlane.takeoff()"
      ],
      "metadata": {
        "colab": {
          "base_uri": "https://localhost:8080/"
        },
        "id": "dJXNDv4IwWu1",
        "outputId": "e5e72ad3-e4c6-4dbc-b5ed-20f10cb68568"
      },
      "execution_count": 58,
      "outputs": [
        {
          "output_type": "stream",
          "name": "stdout",
          "text": [
            "Mais 70 passageiros embarcados com sucesso!\n",
            "O Embraer ERJ190 da Azul está decolando com 70 passageiros\n"
          ]
        }
      ]
    },
    {
      "cell_type": "code",
      "source": [
        "myCar = Car('Uno','Fiat', 5)\n",
        "\n",
        "print(myCar.embarkPassengers(3, name_driver=\"Sérgio\"))\n",
        "myCar.drive()"
      ],
      "metadata": {
        "colab": {
          "base_uri": "https://localhost:8080/"
        },
        "id": "rcISmRePwX4T",
        "outputId": "f3d6ee04-3949-4c15-cb0b-9d1757f2cd18"
      },
      "execution_count": 59,
      "outputs": [
        {
          "output_type": "stream",
          "name": "stdout",
          "text": [
            "Mais 3 passageiros embarcados com sucesso!\n",
            "O Fiat Uno, conduzido por Sérgio, está na estrada com 3 passageiros\n"
          ]
        }
      ]
    },
    {
      "cell_type": "code",
      "source": [],
      "metadata": {
        "id": "mD1uTCexwZEz"
      },
      "execution_count": null,
      "outputs": []
    }
  ]
}