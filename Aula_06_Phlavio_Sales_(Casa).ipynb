{
  "nbformat": 4,
  "nbformat_minor": 0,
  "metadata": {
    "colab": {
      "provenance": [],
      "authorship_tag": "ABX9TyNzsMblC0zePCUfi0+WyhW+",
      "include_colab_link": true
    },
    "kernelspec": {
      "name": "python3",
      "display_name": "Python 3"
    },
    "language_info": {
      "name": "python"
    }
  },
  "cells": [
    {
      "cell_type": "markdown",
      "metadata": {
        "id": "view-in-github",
        "colab_type": "text"
      },
      "source": [
        "<a href=\"https://colab.research.google.com/github/phlaviosales/senacpython/blob/main/Aula_06_Phlavio_Sales_(Casa).ipynb\" target=\"_parent\"><img src=\"https://colab.research.google.com/assets/colab-badge.svg\" alt=\"Open In Colab\"/></a>"
      ]
    },
    {
      "cell_type": "code",
      "execution_count": 2,
      "metadata": {
        "colab": {
          "base_uri": "https://localhost:8080/"
        },
        "id": "_7srIgKQx8Ku",
        "outputId": "7a9913bd-9603-4397-b2f7-c7f45139f512"
      },
      "outputs": [
        {
          "output_type": "stream",
          "name": "stdout",
          "text": [
            "<__main__.Filme object at 0x7f6f1f549350>\n"
          ]
        }
      ],
      "source": [
        "class Filme:\n",
        "\n",
        "    pass\n",
        "\n",
        "snowden = Filme()\n",
        "print(snowden)"
      ]
    },
    {
      "cell_type": "code",
      "source": [
        "class Filme:\n",
        "  def __init__(self, nome, ano, duracao):\n",
        "    self.nome = nome\n",
        "    self.ano = ano\n",
        "    self.duracao = duracao\n",
        "\n",
        "snowden = Filme('Snowden: herói ou vilão', 2018, 160)\n",
        "print(snowden.nome)"
      ],
      "metadata": {
        "colab": {
          "base_uri": "https://localhost:8080/"
        },
        "id": "NHfRVnOcyH4P",
        "outputId": "0c15afcf-1da9-461f-d8a5-90aa13b5e513"
      },
      "execution_count": 4,
      "outputs": [
        {
          "output_type": "stream",
          "name": "stdout",
          "text": [
            "Snowden: herói ou vilão\n"
          ]
        }
      ]
    },
    {
      "cell_type": "code",
      "source": [
        "class Serie:\n",
        "  def __init__(self, nome, ano, temporadas):\n",
        "    self.nome = nome\n",
        "    self.ano = ano\n",
        "    self.temporadas = temporadas\n",
        "\n",
        "blackMirror = Serie('Black Mirror', 2018, 2)\n",
        "\n",
        "print(f'Nome: {blackMirror.nome} - Ano: {blackMirror.ano} - Temporadas: {blackMirror.temporadas}')"
      ],
      "metadata": {
        "colab": {
          "base_uri": "https://localhost:8080/"
        },
        "id": "Nr3gPj3IyYO_",
        "outputId": "45be5d85-7764-4627-d88c-b55f54664c40"
      },
      "execution_count": 6,
      "outputs": [
        {
          "output_type": "stream",
          "name": "stdout",
          "text": [
            "Nome: Black Mirror - Ano: 2018 - Temporadas: 2\n"
          ]
        }
      ]
    },
    {
      "cell_type": "code",
      "source": [
        "class Filme:\n",
        "  def __init__(self, nome, ano, duracao):\n",
        "    self.nome = nome\n",
        "    self.ano = ano\n",
        "    self.duracao = duracao\n",
        "\n",
        "class Serie:\n",
        "  def __init__(self, nome, ano, temporadas):\n",
        "    self.nome = nome\n",
        "    self.ano = ano\n",
        "    self.temporadas = temporadas\n",
        "\n",
        "snowden = Filme('Snowden: herói ou vilão', 2018, 160)\n",
        "print(f'Nome: {snowden.nome} - Ano: {snowden.ano} - Temporadas: {snowden.duracao}')\n",
        "\n",
        "blackMirror = Serie('Black Mirror', 2018, 2)\n",
        "print(f'Nome: {blackMirror.nome} - Ano: {blackMirror.ano} - Temporadas: {blackMirror.temporadas}')"
      ],
      "metadata": {
        "colab": {
          "base_uri": "https://localhost:8080/"
        },
        "id": "15TB1uuYzU0L",
        "outputId": "4b5bdaf8-aa88-4d6b-a83d-9e979ee7a028"
      },
      "execution_count": 11,
      "outputs": [
        {
          "output_type": "stream",
          "name": "stdout",
          "text": [
            "Nome: Snowden: herói ou vilão - Ano: 2018 - Temporadas: 160\n",
            "Nome: Black Mirror - Ano: 2018 - Temporadas: 2\n"
          ]
        }
      ]
    },
    {
      "cell_type": "code",
      "source": [
        "class Filme:\n",
        "  def __init__(self, nome, ano, duracao):\n",
        "    self.nome = nome.capitalize()\n",
        "    self.ano = ano\n",
        "    self.duracao = duracao\n",
        "\n",
        "class Filme:\n",
        "  def __init__(self, nome, ano, duracao):\n",
        "    self.nome = nome.title()\n",
        "    self.ano = ano\n",
        "    self.duracao = duracao\n",
        "\n",
        "class Serie:\n",
        "  def __init__(self, nome, ano, temporadas):\n",
        "    self.nome = nome.title()\n",
        "    self.ano = ano\n",
        "    self.temporadas = temporadas"
      ],
      "metadata": {
        "id": "BqTwi8s3zfrN"
      },
      "execution_count": 12,
      "outputs": []
    },
    {
      "cell_type": "code",
      "source": [
        "class Filme:\n",
        "  def __init__(self, nome, ano, duracao):\n",
        "    self.nome = nome.title()\n",
        "    self.ano = ano\n",
        "    self.duracao = duracao \n",
        "    self.likes = 0\n",
        "\n",
        "  def dar_like(self):\n",
        "    self.likes += 1\n",
        "\n",
        "class Serie:\n",
        "  def __init__(self, nome, ano, temporadas):\n",
        "    self.nome = nome.title()\n",
        "    self.ano = ano\n",
        "    self.temporadas = temporadas\n",
        "    self.likes = 0\n",
        "\n",
        "  def dar_like(self):\n",
        "    self.likes += 1"
      ],
      "metadata": {
        "id": "YBjqp30m0E6U"
      },
      "execution_count": 28,
      "outputs": []
    },
    {
      "cell_type": "code",
      "source": [
        "snowden = Filme('Snowden: herói ou vilão', 2018, 160)\n",
        "\n",
        "print(f'Nome: {snowden.nome} - Ano: {snowden.ano} - Temporadas: {snowden.duracao} - Likes: {snowden.likes}')\n",
        "\n",
        "blackMirror = Serie('Black Mirror', 2018, 2)\n",
        "\n",
        "print(f'Nome: {blackMirror.nome} - Ano: {blackMirror.ano} - Temporadas: {blackMirror.temporadas} - Likes: {blackMirror.likes}')"
      ],
      "metadata": {
        "colab": {
          "base_uri": "https://localhost:8080/"
        },
        "id": "9ur8UcUb0MhL",
        "outputId": "32239997-de11-4523-c909-d7febe63387c"
      },
      "execution_count": 29,
      "outputs": [
        {
          "output_type": "stream",
          "name": "stdout",
          "text": [
            "Nome: Snowden: Herói Ou Vilão - Ano: 2018 - Temporadas: 160 - Likes: 0\n",
            "Nome: Black Mirror - Ano: 2018 - Temporadas: 2 - Likes: 0\n"
          ]
        }
      ]
    },
    {
      "cell_type": "code",
      "source": [
        "blackMirror = Serie('blackMirror', 2018, 2)\n",
        "\n",
        "blackMirror.nome = 'blackMirror'\n",
        "blackMirror.dar_like()\n",
        "blackMirror.dar_like()\n",
        "print(f'Nome: {blackMirror.nome} - Ano: {blackMirror.ano} 'f'- Temporadas: {blackMirror.temporadas} - Likes: {blackMirror.likes}')"
      ],
      "metadata": {
        "colab": {
          "base_uri": "https://localhost:8080/"
        },
        "id": "KLSBWDxA01ly",
        "outputId": "63bc5443-ab9c-48e9-940d-5bb931ca3754"
      },
      "execution_count": 30,
      "outputs": [
        {
          "output_type": "stream",
          "name": "stdout",
          "text": [
            "Nome: blackMirror - Ano: 2018 - Temporadas: 2 - Likes: 2\n"
          ]
        }
      ]
    },
    {
      "cell_type": "code",
      "source": [
        "class Filme:\n",
        "  def __init__(self, nome, ano, duracao):\n",
        "    self.nome = nome.title()\n",
        "    self.ano = ano\n",
        "    self.duracao = duracao\n",
        "    self.likes = 0\n",
        "\n",
        "  def dar_like(self):\n",
        "    self.likes += 1"
      ],
      "metadata": {
        "id": "yeF-ZaMC1vYI"
      },
      "execution_count": 31,
      "outputs": []
    },
    {
      "cell_type": "code",
      "source": [
        "class Filme:\n",
        "  def __init__(self, nome, ano, duracao):\n",
        "    self.__nome = nome.title()\n",
        "    self.ano = ano\n",
        "    self.duracao = duracao\n",
        "    self.__likes = 0\n",
        "\n",
        "  def dar_like(self):\n",
        "    self.likes += 1"
      ],
      "metadata": {
        "id": "HxwYRMMj2yge"
      },
      "execution_count": 38,
      "outputs": []
    },
    {
      "cell_type": "code",
      "source": [
        "class Serie:\n",
        "  def __init__(self, nome, ano, temporadas):\n",
        "    self.__nome = nome.title()\n",
        "    self.ano = ano\n",
        "    self.temporadas = temporadas\n",
        "    self.__likes = 0\n",
        "\n",
        "  def dar_like(self):\n",
        "    self.likes += 1"
      ],
      "metadata": {
        "id": "PBYIslIM27Vu"
      },
      "execution_count": 37,
      "outputs": []
    },
    {
      "cell_type": "code",
      "source": [
        "blackMirror = Serie('blackMirror', 2018, 2)\n",
        "\n",
        "blackMirror.nome = 'blackMirror'\n",
        "\n",
        "blackMirror.dar_like()\n",
        "blackMirror.dar_like()\n",
        "\n",
        "print(f'Nome: {blackMirror.nome} - Ano: {blackMirror.ano} 'f'- Temporadas: {blackMirror.temporadas} - Likes: {blackMirror.likes}')"
      ],
      "metadata": {
        "colab": {
          "base_uri": "https://localhost:8080/",
          "height": 321
        },
        "id": "KspkoQo_3BwV",
        "outputId": "1ca28434-0c7c-47b8-c963-1b92bc107e75"
      },
      "execution_count": 40,
      "outputs": [
        {
          "output_type": "error",
          "ename": "AttributeError",
          "evalue": "ignored",
          "traceback": [
            "\u001b[0;31m---------------------------------------------------------------------------\u001b[0m",
            "\u001b[0;31mAttributeError\u001b[0m                            Traceback (most recent call last)",
            "\u001b[0;32m<ipython-input-40-14a984bccb7f>\u001b[0m in \u001b[0;36m<module>\u001b[0;34m\u001b[0m\n\u001b[1;32m      3\u001b[0m \u001b[0mblackMirror\u001b[0m\u001b[0;34m.\u001b[0m\u001b[0mnome\u001b[0m \u001b[0;34m=\u001b[0m \u001b[0;34m'blackMirror'\u001b[0m\u001b[0;34m\u001b[0m\u001b[0;34m\u001b[0m\u001b[0m\n\u001b[1;32m      4\u001b[0m \u001b[0;34m\u001b[0m\u001b[0m\n\u001b[0;32m----> 5\u001b[0;31m \u001b[0mblackMirror\u001b[0m\u001b[0;34m.\u001b[0m\u001b[0mdar_like\u001b[0m\u001b[0;34m(\u001b[0m\u001b[0;34m)\u001b[0m\u001b[0;34m\u001b[0m\u001b[0;34m\u001b[0m\u001b[0m\n\u001b[0m\u001b[1;32m      6\u001b[0m \u001b[0mblackMirror\u001b[0m\u001b[0;34m.\u001b[0m\u001b[0mdar_like\u001b[0m\u001b[0;34m(\u001b[0m\u001b[0;34m)\u001b[0m\u001b[0;34m\u001b[0m\u001b[0;34m\u001b[0m\u001b[0m\n\u001b[1;32m      7\u001b[0m \u001b[0;34m\u001b[0m\u001b[0m\n",
            "\u001b[0;32m<ipython-input-37-847518dfd430>\u001b[0m in \u001b[0;36mdar_like\u001b[0;34m(self)\u001b[0m\n\u001b[1;32m      7\u001b[0m \u001b[0;34m\u001b[0m\u001b[0m\n\u001b[1;32m      8\u001b[0m   \u001b[0;32mdef\u001b[0m \u001b[0mdar_like\u001b[0m\u001b[0;34m(\u001b[0m\u001b[0mself\u001b[0m\u001b[0;34m)\u001b[0m\u001b[0;34m:\u001b[0m\u001b[0;34m\u001b[0m\u001b[0;34m\u001b[0m\u001b[0m\n\u001b[0;32m----> 9\u001b[0;31m     \u001b[0mself\u001b[0m\u001b[0;34m.\u001b[0m\u001b[0mlikes\u001b[0m \u001b[0;34m+=\u001b[0m \u001b[0;36m1\u001b[0m\u001b[0;34m\u001b[0m\u001b[0;34m\u001b[0m\u001b[0m\n\u001b[0m",
            "\u001b[0;31mAttributeError\u001b[0m: 'Serie' object has no attribute 'likes'"
          ]
        }
      ]
    },
    {
      "cell_type": "code",
      "source": [
        "class Filme:\n",
        "  def __init__(self, nome, ano, duracao):\n",
        "    self.__nome = nome.title()\n",
        "    self.ano = ano\n",
        "    self.duracao = duracao\n",
        "    self.__likes = 0\n",
        "\n",
        "@property\n",
        "def likes(self):\n",
        "  return self.__likes\n",
        "\n",
        "def dar_like(self):\n",
        "  self.__likes += 1"
      ],
      "metadata": {
        "id": "9qBlDEc63KOV"
      },
      "execution_count": 41,
      "outputs": []
    },
    {
      "cell_type": "code",
      "source": [
        "def dar_likes(self):\n",
        "  self.__likes += 1\n",
        "\n",
        "@property\n",
        "def nome(self):\n",
        "  return self.__nome"
      ],
      "metadata": {
        "id": "1RjIETod3_Mj"
      },
      "execution_count": 42,
      "outputs": []
    },
    {
      "cell_type": "code",
      "source": [
        "@property\n",
        "def nome(self):\n",
        "    return self.__nome\n",
        "\n",
        "@nome.setter\n",
        "def nome(self, novo_nome):\n",
        "    self.__nome = novo_nome.title()"
      ],
      "metadata": {
        "id": "JaNH5DOF4Fyb"
      },
      "execution_count": 46,
      "outputs": []
    },
    {
      "cell_type": "code",
      "source": [
        "class Pessoa:\n",
        "    tamanho_cpf = 11\n",
        "\n",
        "    def __init__(self, cpf, nome):\n",
        "      self.cpf = cpf\n",
        "      self.nome = nome\n",
        "\n",
        "    def valida_cpf(self):\n",
        "      return True if len(self.cpf) == __class__.tamanho_cpf else False\n",
        "\n",
        "pe = Pessoa('00000000001', 'Camila')\n",
        "print(pe.valida_cpf())\n",
        "\n",
        "pe = Pessoa('0000000000', 'Suely')\n",
        "print(pe.valida_cpf())"
      ],
      "metadata": {
        "colab": {
          "base_uri": "https://localhost:8080/"
        },
        "id": "x0KrKd_k4TN7",
        "outputId": "33e37c94-7618-48e1-9784-58decb986983"
      },
      "execution_count": 47,
      "outputs": [
        {
          "output_type": "stream",
          "name": "stdout",
          "text": [
            "True\n",
            "False\n"
          ]
        }
      ]
    },
    {
      "cell_type": "code",
      "source": [
        "class Pessoa:\n",
        "    tamanho_cpf = 11\n",
        "p = Pessoa()\n",
        "print(p.tamanho_cpf)\n",
        "\n",
        "p.tamanho_cpf = 12\n",
        "print(p.tamanho_cpf)\n",
        "print(Pessoa.tamanho_cpf)"
      ],
      "metadata": {
        "colab": {
          "base_uri": "https://localhost:8080/"
        },
        "id": "rGxFp5jB5UIR",
        "outputId": "30cb67c4-3261-4213-b542-9ebfb790260f"
      },
      "execution_count": 48,
      "outputs": [
        {
          "output_type": "stream",
          "name": "stdout",
          "text": [
            "11\n",
            "12\n",
            "11\n"
          ]
        }
      ]
    },
    {
      "cell_type": "code",
      "source": [
        "class Filme:\n",
        "  def __init__(self, nome, ano, duracao):\n",
        "    self.__nome = nome.title()\n",
        "    self.ano = ano\n",
        "    self.duracao = duracao\n",
        "    self.__likes = 0\n",
        "\n",
        "@property\n",
        "def likes(self):\n",
        "    return self.__likes\n",
        "\n",
        "def dar_likes(self):\n",
        "    self.__likes += 1\n",
        "\n",
        "@property\n",
        "def nome(self):\n",
        "    return self.__nome\n",
        "\n",
        "@nome.setter\n",
        "def nome(self, novo_nome):\n",
        "    self.__nome = novo_nome.title()\n",
        "\n",
        "class Serie:\n",
        "  def __init__(self, nome, ano, temporadas):\n",
        "    self.__nome = nome.title()\n",
        "    self.ano = ano\n",
        "    self.temporadas = temporadas\n",
        "    self.__likes = 0\n",
        "    \n",
        "@property\n",
        "def likes(self):\n",
        "    return self.__likes\n",
        "\n",
        "def dar_likes(self):\n",
        "    self.__likes += 1\n",
        "\n",
        "@property\n",
        "def nome(self):\n",
        "    return self.__nome\n",
        "\n",
        "@nome.setter\n",
        "def nome(self, novo_nome):\n",
        "    self.__nome = novo_nome.title()"
      ],
      "metadata": {
        "id": "S4R-sMSL42ZJ"
      },
      "execution_count": 2,
      "outputs": []
    },
    {
      "cell_type": "code",
      "source": [
        "vingadores = Filme('vingadores - guerra infinita', 2018, 160)\n",
        "print(vingadores.nome)\n",
        "\n",
        "atlanta = Serie('atlanta', 2018, 2)\n",
        "print(f'Nome: {atlanta.nome} - Ano: {atlanta.ano}')"
      ],
      "metadata": {
        "id": "ac1SVL6r59VI"
      },
      "execution_count": null,
      "outputs": []
    },
    {
      "cell_type": "code",
      "source": [
        "class Programa:\n",
        "  def __init__(self, nome, ano):\n",
        "    self.__nome = nome.title()\n",
        "    self.ano = ano\n",
        "    self.__like = 0\n",
        "\n",
        "    @property\n",
        "    def likes(self):\n",
        "      return self.__likes\n",
        "    def dar_likes(self):\n",
        "      self.__likes += 1\n",
        "\n",
        "    @property\n",
        "    def nome(self):\n",
        "      return self.__nome\n",
        "\n",
        "    @nome.setter\n",
        "    def nome(self, novo_nome):\n",
        "      self.__nome = novo_nome.title()"
      ],
      "metadata": {
        "id": "yvmR3CN67KPe"
      },
      "execution_count": 5,
      "outputs": []
    },
    {
      "cell_type": "code",
      "source": [
        "def funcaoLeitura():\n",
        "  for i in range(5):\n",
        "    print(\"Número \", i)\n",
        "\n",
        "funcaoLeitura()\n",
        "\n",
        "#Função para somar dois numeros\n",
        "def addNum(n1, n2):\n",
        "  print(\"O primeiro número é: \", n1)\n",
        "  print(\"O segundo número é: \", n2)\n",
        "  print(\"A soma número é: \", n1+n2)\n",
        "\n",
        "addNum(45, 6)"
      ],
      "metadata": {
        "colab": {
          "base_uri": "https://localhost:8080/"
        },
        "id": "AzBjh4b-7bjt",
        "outputId": "e0c5ed4c-16fa-4ec8-b66c-e82600772573"
      },
      "execution_count": 6,
      "outputs": [
        {
          "output_type": "stream",
          "name": "stdout",
          "text": [
            "Número  0\n",
            "Número  1\n",
            "Número  2\n",
            "Número  3\n",
            "Número  4\n",
            "O primeiro número é:  45\n",
            "O segundo número é:  6\n",
            "A soma número é:  51\n"
          ]
        }
      ]
    },
    {
      "cell_type": "code",
      "source": [
        "varGlobal = 10 #essa é uma variável global\n",
        "def multiplicacao(num1, num2):\n",
        "  varGlobal = (num1 * num2) #essa é uma variável local\n",
        "  print(\"Variável da função Multiplica: \", varGlobal)\n",
        "\n",
        "multiplicacao(5, 4)\n",
        "print(varGlobal)"
      ],
      "metadata": {
        "colab": {
          "base_uri": "https://localhost:8080/"
        },
        "id": "SZ5UHvEQ7z_N",
        "outputId": "f8591323-feda-4b72-9121-2646b58a88ba"
      },
      "execution_count": 8,
      "outputs": [
        {
          "output_type": "stream",
          "name": "stdout",
          "text": [
            "Variável da função Multiplica:  20\n",
            "10\n"
          ]
        }
      ]
    },
    {
      "cell_type": "code",
      "source": [
        "varGlobal = 10 #essa é uma variável global\n",
        "def multiplica(num1, num2):\n",
        "  varLocal = num1 * num2 #essa é uma variável local\n",
        "  print(\"Variável da função Multiplica: \", varLocal)\n",
        "\n",
        "multiplica(5, 4)"
      ],
      "metadata": {
        "colab": {
          "base_uri": "https://localhost:8080/"
        },
        "id": "MT4peAL98BE0",
        "outputId": "08ee6680-cb9f-4491-c18f-c48c27ea44ce"
      },
      "execution_count": 16,
      "outputs": [
        {
          "output_type": "stream",
          "name": "stdout",
          "text": [
            "Variável da função Multiplica:  20\n"
          ]
        }
      ]
    },
    {
      "cell_type": "code",
      "source": [
        "print(varLocal)"
      ],
      "metadata": {
        "id": "3FkSogcB8LOU"
      },
      "execution_count": null,
      "outputs": []
    },
    {
      "cell_type": "code",
      "source": [
        "for i in range(5): print(i)"
      ],
      "metadata": {
        "colab": {
          "base_uri": "https://localhost:8080/"
        },
        "id": "njxc3RYf8Mqz",
        "outputId": "c8c9dd2d-598e-4136-f947-bbc9f9ba750e"
      },
      "execution_count": 14,
      "outputs": [
        {
          "output_type": "stream",
          "name": "stdout",
          "text": [
            "0\n",
            "1\n",
            "2\n",
            "3\n",
            "4\n"
          ]
        }
      ]
    },
    {
      "cell_type": "code",
      "source": [
        "def separarTexto(texto): return texto.split()\n",
        "\n",
        "token = separarTexto(\"Cibele Maria\")\n",
        "print(token)"
      ],
      "metadata": {
        "colab": {
          "base_uri": "https://localhost:8080/"
        },
        "id": "HwTTnX4X8vo6",
        "outputId": "bce8bf44-a220-4230-ce3a-e378f8bd427b"
      },
      "execution_count": 17,
      "outputs": [
        {
          "output_type": "stream",
          "name": "stdout",
          "text": [
            "['Cibele', 'Maria']\n"
          ]
        }
      ]
    },
    {
      "cell_type": "code",
      "source": [
        "#Quando não sabemos a quantidade de parâmetros basta usar o * no parâmetro\n",
        "def variosParametros(*parametros):\n",
        "  for n, item in enumerate(parametros):\n",
        "    print(\"O parâmetro %d é: \" %(n), item)\n",
        "  return;\n",
        "\n",
        "variosParametros(\"pitomba\", \"jambo\", \"siriguela\", \"umbu\")\n",
        "\n",
        "import math #pacote com um conjunto de funções matemática\n",
        "def numPrimo(num):\n",
        "  #verificando se um número é primo\n",
        "  if (num%2) == 0 and num>2:\n",
        "    return (\"Este número não é primo\")\n",
        "  for i in range(3, int(math.sqrt(num)) + 1, 2):\n",
        "    if (num % i) == 0:\n",
        "      return (\"Este numero não é primo\")\n",
        "  return (\"Este número é primo!\")\n",
        "  \n",
        "numPrimo(47)"
      ],
      "metadata": {
        "colab": {
          "base_uri": "https://localhost:8080/",
          "height": 105
        },
        "id": "KfHWGtFc87Ii",
        "outputId": "40680fe6-995d-4926-84ab-7c1f6a2bec69"
      },
      "execution_count": 19,
      "outputs": [
        {
          "output_type": "stream",
          "name": "stdout",
          "text": [
            "O parâmetro 0 é:  pitomba\n",
            "O parâmetro 1 é:  jambo\n",
            "O parâmetro 2 é:  siriguela\n",
            "O parâmetro 3 é:  umbu\n"
          ]
        },
        {
          "output_type": "execute_result",
          "data": {
            "text/plain": [
              "'Este número é primo!'"
            ],
            "application/vnd.google.colaboratory.intrinsic+json": {
              "type": "string"
            }
          },
          "metadata": {},
          "execution_count": 19
        }
      ]
    },
    {
      "cell_type": "code",
      "source": [
        "#Criando uma calculadora\n",
        "\n",
        "def soma(n1, n2):\n",
        "  return n1+n2\n",
        "\n",
        "def subtrai(n1, n2):\n",
        "  return n1-n2\n",
        "\n",
        "def multiplica(n1, n2):\n",
        "  return n1*n2\n",
        "\n",
        "def divide(n1,n2):\n",
        "  return n1/n2\n",
        "\n",
        "while True:\n",
        "  print(\"+==================+\")\n",
        "  print(\"| MENU DE OPERAÇÕES\")\n",
        "  print(\"| 1 - somar \")\n",
        "  print(\"| 2 - subtrair \")\n",
        "  print(\"| 3 - multiplicar \")\n",
        "  print(\"| 4 - dividir \")\n",
        "  print(\"| 0 - sair \")\n",
        "  print(\"+==================+\")\n",
        "\n",
        "  op = int(input())\n",
        "  if op==0:\n",
        "    break\n",
        "\n",
        "  n1 = int(input(\"Primeiro número: \"))\n",
        "  n2 = int(input(\"Segundo número: \"))\n",
        "\n",
        "  if op==1:\n",
        "   print(\"O resultado da soma é: \", soma(n1, n2))\n",
        "  elif op==2:\n",
        "    print(\"O resultado da subtração é: \", subtrai(n1,n2))\n",
        "  elif op==3:\n",
        "    print(\"O resultado da multiplicação é: \", multiplica(n1,n2))\n",
        "  elif op==4:\n",
        "    print(\"O resultado da divisão é: \", divide(n1,n2))"
      ],
      "metadata": {
        "colab": {
          "base_uri": "https://localhost:8080/"
        },
        "id": "T-Q2hPy49DXa",
        "outputId": "25ef7038-8204-4dc4-c645-98438342a9c1"
      },
      "execution_count": 1,
      "outputs": [
        {
          "name": "stdout",
          "output_type": "stream",
          "text": [
            "+==================+\n",
            "| MENU DE OPERAÇÕES\n",
            "| 1 - somar \n",
            "| 2 - subtrair \n",
            "| 3 - multiplicar \n",
            "| 4 - dividir \n",
            "| 0 - sair \n",
            "+==================+\n",
            "0\n"
          ]
        }
      ]
    },
    {
      "cell_type": "code",
      "source": [
        "class Pessoa():\n",
        "  def __init__(self, n, i):\n",
        "    self.nome = n\n",
        "    self.idade = i\n",
        "  def apresentacao(self):\n",
        "    print(\"Seja bem vindo ao Python!\")\n",
        "\n",
        "class PessoaFisica():\n",
        "  def __init__(self, n, i, cpf):\n",
        "    self.nome = n\n",
        "    self.idade = i\n",
        "    self.cpf = cpf\n",
        "\n",
        "  def apresentacao(self):\n",
        "    print(\"Seja bem vindo ao Python!\")\n",
        "\n",
        "  def impostoDeRenda(self, *salario):\n",
        "    s = sum(salario)\n",
        "    ir = s*0.015\n",
        "    print(\" O valor do seu imposto de renda é R$\", ir)\n",
        "    return ir\n",
        "\n",
        "class PessoaJuridica():\n",
        "  def __init__(self, n, i, cnpj):\n",
        "    self.nome = n\n",
        "    self.idade = i\n",
        "    self.cnpj = cnpj\n",
        "  def apresentacao(self):\n",
        "    print(\"Seja bem vindo ao Python!\")\n",
        "\n",
        "  def impostoDeRenda(self, salario):\n",
        "    ir = salario*0.10\n",
        "    print(\" O valor do seu imposto de renda é R$\", ir)\n",
        "    return ir\n",
        "\n",
        "nome = str(input(\"Nome: \"))\n",
        "age = int(input(\"Idade: \"))\n",
        "cnpjorcpf = int(input(\"CNPJ ou CPF: \"))\n",
        "serumaninho = Pessoa(nome, age)\n",
        "comunidade = PessoaJuridica(nome, age, cnpjorcpf)\n",
        "\n",
        "serumaninho.nome\n",
        "\n",
        "serumaninho.idade\n",
        "\n",
        "serumaninho.apresentacao()\n",
        "\n",
        "salario = float(input(\"Receita: \"))\n",
        "comunidade.impostoDeRenda(salario)\n",
        "print(\"Fim!\")"
      ],
      "metadata": {
        "colab": {
          "base_uri": "https://localhost:8080/"
        },
        "id": "LfiWBZvN-LoQ",
        "outputId": "105ae45f-cd59-4b66-93cd-99f789aa99f5"
      },
      "execution_count": 6,
      "outputs": [
        {
          "output_type": "stream",
          "name": "stdout",
          "text": [
            "Nome: Phlavio\n",
            "Idade: 31\n",
            "CNPJ ou CPF: 08532259405\n",
            "Seja bem vindo ao Python!\n",
            "Receita: 2000\n",
            " O valor do seu imposto de renda é R$ 200.0\n",
            "Fim!\n"
          ]
        }
      ]
    },
    {
      "cell_type": "code",
      "source": [],
      "metadata": {
        "id": "PgJrt8-sFecI"
      },
      "execution_count": null,
      "outputs": []
    }
  ]
}