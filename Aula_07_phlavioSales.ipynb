{
  "nbformat": 4,
  "nbformat_minor": 0,
  "metadata": {
    "colab": {
      "provenance": [],
      "authorship_tag": "ABX9TyPlCKXFzHlAJ1l2w0sQVxG4",
      "include_colab_link": true
    },
    "kernelspec": {
      "name": "python3",
      "display_name": "Python 3"
    },
    "language_info": {
      "name": "python"
    }
  },
  "cells": [
    {
      "cell_type": "markdown",
      "metadata": {
        "id": "view-in-github",
        "colab_type": "text"
      },
      "source": [
        "<a href=\"https://colab.research.google.com/github/phlaviosales/senacpython/blob/main/Aula_07_phlavioSales.ipynb\" target=\"_parent\"><img src=\"https://colab.research.google.com/assets/colab-badge.svg\" alt=\"Open In Colab\"/></a>"
      ]
    },
    {
      "cell_type": "markdown",
      "source": [
        "## Aula 07 - Phlavio Sales"
      ],
      "metadata": {
        "id": "q8g6tBgO9pRj"
      }
    },
    {
      "cell_type": "code",
      "source": [
        "def ex1(n):\n",
        "  for i in range(1, n+1):\n",
        "    print((str(i)+' ')*i)"
      ],
      "metadata": {
        "id": "QT9YLbRiCCPV"
      },
      "execution_count": null,
      "outputs": []
    },
    {
      "cell_type": "code",
      "source": [
        "obj1 = ex1(8)"
      ],
      "metadata": {
        "colab": {
          "base_uri": "https://localhost:8080/"
        },
        "id": "lqZr9dncKexL",
        "outputId": "ff596fd2-0757-44a1-b6fb-6dd701f0f0f8"
      },
      "execution_count": null,
      "outputs": [
        {
          "output_type": "stream",
          "name": "stdout",
          "text": [
            "1 \n",
            "2 2 \n",
            "3 3 3 \n",
            "4 4 4 4 \n",
            "5 5 5 5 5 \n",
            "6 6 6 6 6 6 \n",
            "7 7 7 7 7 7 7 \n",
            "8 8 8 8 8 8 8 8 \n"
          ]
        }
      ]
    },
    {
      "cell_type": "code",
      "source": [
        "def ex2(x):\n",
        "  z = []\n",
        "  for i in range (1, x+1):\n",
        "    z.append(i)\n",
        "    #x +=1\n",
        "    print(z)"
      ],
      "metadata": {
        "id": "0QTpQZCLMWl2"
      },
      "execution_count": null,
      "outputs": []
    },
    {
      "cell_type": "code",
      "source": [
        "obj2 = ex2(5)"
      ],
      "metadata": {
        "colab": {
          "base_uri": "https://localhost:8080/"
        },
        "id": "7odoW_sOOzgt",
        "outputId": "7e306f1e-8a13-47a3-9883-9ba231bdf8a3"
      },
      "execution_count": null,
      "outputs": [
        {
          "output_type": "stream",
          "name": "stdout",
          "text": [
            "[1]\n",
            "[1, 2]\n",
            "[1, 2, 3]\n",
            "[1, 2, 3, 4]\n",
            "[1, 2, 3, 4, 5]\n"
          ]
        }
      ]
    },
    {
      "cell_type": "code",
      "source": [
        "def ex3(x1, x2, x3):\n",
        "  return x1 + x2 + x3\n",
        "\n",
        "obj3 = ex3(3, 4, 5)\n",
        "\n",
        "print(obj3)"
      ],
      "metadata": {
        "colab": {
          "base_uri": "https://localhost:8080/"
        },
        "id": "sRglhjpkO2M0",
        "outputId": "76a5dfd1-f17b-4529-a85a-038da39b0927"
      },
      "execution_count": null,
      "outputs": [
        {
          "output_type": "stream",
          "name": "stdout",
          "text": [
            "12\n"
          ]
        }
      ]
    },
    {
      "cell_type": "code",
      "source": [
        "def ex4(x4):\n",
        "  if x4 > 0:\n",
        "    print(\"P\")\n",
        "  else:\n",
        "    print(\"N\")"
      ],
      "metadata": {
        "id": "6W7NrASxUBTN"
      },
      "execution_count": null,
      "outputs": []
    },
    {
      "cell_type": "code",
      "source": [
        "obj4 = ex4(10)\n",
        "obj4 = ex4(-2)"
      ],
      "metadata": {
        "colab": {
          "base_uri": "https://localhost:8080/"
        },
        "id": "bv4sCB9SVDz7",
        "outputId": "32754fdd-c991-4093-cc22-afdaddc1523e"
      },
      "execution_count": null,
      "outputs": [
        {
          "output_type": "stream",
          "name": "stdout",
          "text": [
            "P\n",
            "N\n"
          ]
        }
      ]
    },
    {
      "cell_type": "code",
      "source": [
        "def somaImposto(taxaImposto, custo):\n",
        "  taxa = taxaImposto / 100\n",
        "  custo = custo + (custo * taxaImposto)"
      ],
      "metadata": {
        "id": "JRh_8nYxWIL1"
      },
      "execution_count": null,
      "outputs": []
    },
    {
      "cell_type": "code",
      "source": [
        "obj5 = somaImposto(float(input('Digite a taxa de imposto: ')), float(input('Digita o custo do seu produto: ')))"
      ],
      "metadata": {
        "colab": {
          "base_uri": "https://localhost:8080/"
        },
        "id": "066xQYhiaSzk",
        "outputId": "3a1e5ae4-ec94-401d-f649-cbac7f75ca31"
      },
      "execution_count": null,
      "outputs": [
        {
          "name": "stdout",
          "output_type": "stream",
          "text": [
            "Digite a taxa de imposto: 100\n",
            "Digita o custo do seu produto: 50\n"
          ]
        }
      ]
    },
    {
      "cell_type": "code",
      "source": [
        "print(obj5)"
      ],
      "metadata": {
        "colab": {
          "base_uri": "https://localhost:8080/"
        },
        "id": "EoM2U6N4aYjZ",
        "outputId": "d2cace7e-aac3-4ad0-d0ca-4b53a5d10bca"
      },
      "execution_count": null,
      "outputs": [
        {
          "output_type": "stream",
          "name": "stdout",
          "text": [
            "None\n"
          ]
        }
      ]
    },
    {
      "cell_type": "code",
      "source": [
        "def somaImposto(taxaimposto, custo):\n",
        "  print((0.01*taxaimposto)*custo + custo)"
      ],
      "metadata": {
        "id": "4JT73pVnaZwW"
      },
      "execution_count": null,
      "outputs": []
    },
    {
      "cell_type": "code",
      "source": [
        "obj6 = somaImposto(10, 100)"
      ],
      "metadata": {
        "colab": {
          "base_uri": "https://localhost:8080/"
        },
        "id": "B4N4wlX9c-mX",
        "outputId": "85188eb4-a79c-4ec2-faef-94651e41d4c6"
      },
      "execution_count": null,
      "outputs": [
        {
          "output_type": "stream",
          "name": "stdout",
          "text": [
            "110.0\n"
          ]
        }
      ]
    },
    {
      "cell_type": "code",
      "source": [
        "def reverse(x):\n",
        "  print(x[::-1])"
      ],
      "metadata": {
        "id": "rLwgiGkydCdT"
      },
      "execution_count": null,
      "outputs": []
    },
    {
      "cell_type": "code",
      "source": [
        "obj1 = reverse(input('Digite um numero: '))"
      ],
      "metadata": {
        "colab": {
          "base_uri": "https://localhost:8080/"
        },
        "id": "7eHscohCePCV",
        "outputId": "f0d99f89-8e2a-4b1a-a375-1b117f1ec236"
      },
      "execution_count": null,
      "outputs": [
        {
          "output_type": "stream",
          "name": "stdout",
          "text": [
            "Digite um numero: 10\n",
            "01\n"
          ]
        }
      ]
    },
    {
      "cell_type": "code",
      "source": [],
      "metadata": {
        "id": "QcN8qkkJeRkU"
      },
      "execution_count": null,
      "outputs": []
    }
  ]
}